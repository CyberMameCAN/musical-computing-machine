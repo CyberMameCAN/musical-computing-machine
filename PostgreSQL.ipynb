{
 "cells": [
  {
   "cell_type": "code",
   "execution_count": null,
   "id": "a6559209-7610-48e2-b553-472a6ffefe9e",
   "metadata": {},
   "outputs": [],
   "source": [
    "import pandas as pd\n",
    "import psycopg2 as pg"
   ]
  },
  {
   "cell_type": "code",
   "execution_count": null,
   "id": "71661fde-7b26-41ec-82a2-32e99dd7a42b",
   "metadata": {},
   "outputs": [],
   "source": [
    "conn = pg.connect(\"host='192.168.XXX.XXX' port=XXXXX dbname=XXXXXXXX user=XXXXX password='XXXXXXXXXX'\")\n",
    "sql = 'select * from XXXXXXX'"
   ]
  },
  {
   "cell_type": "code",
   "execution_count": null,
   "id": "cd7fde32-f10b-46f0-98c8-8dc00724f18c",
   "metadata": {},
   "outputs": [],
   "source": [
    "df = pd.read_sql_query(sql, conn)\n",
    "conn = None"
   ]
  },
  {
   "cell_type": "code",
   "execution_count": null,
   "id": "244fc764-c24a-477b-83f6-81f730f4179f",
   "metadata": {},
   "outputs": [],
   "source": [
    "df.info()"
   ]
  },
  {
   "cell_type": "code",
   "execution_count": null,
   "id": "aa9ae9be-507d-4f8e-9145-f415aaeb09ad",
   "metadata": {},
   "outputs": [],
   "source": [
    "df.columns[:20]"
   ]
  },
  {
   "cell_type": "code",
   "execution_count": null,
   "id": "7eefab61-08f4-497d-a0d6-8c82d10ec336",
   "metadata": {},
   "outputs": [],
   "source": []
  }
 ],
 "metadata": {
  "kernelspec": {
   "display_name": "Python 3 (ipykernel)",
   "language": "python",
   "name": "python3"
  },
  "language_info": {
   "codemirror_mode": {
    "name": "ipython",
    "version": 3
   },
   "file_extension": ".py",
   "mimetype": "text/x-python",
   "name": "python",
   "nbconvert_exporter": "python",
   "pygments_lexer": "ipython3",
   "version": "3.7.7"
  }
 },
 "nbformat": 4,
 "nbformat_minor": 5
}
