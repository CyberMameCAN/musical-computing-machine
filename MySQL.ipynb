{
 "cells": [
  {
   "cell_type": "code",
   "execution_count": null,
   "id": "7b485ab3-b6e1-468d-a8b4-7701ceb425fc",
   "metadata": {},
   "outputs": [],
   "source": [
    "import numpy as np\n",
    "import pandas as pd\n",
    "\n",
    "import mysql.connector\n",
    "from tqdm.notebook import tqdm\n"
   ]
  },
  {
   "cell_type": "code",
   "execution_count": null,
   "id": "d1f6923a-8a34-4dd3-9900-a63b5c8a31c2",
   "metadata": {},
   "outputs": [],
   "source": [
    "session = mysql.connector.connect(\n",
    "      host='localhost',\n",
    "      port='3306',\n",
    "      user='username',\n",
    "      password='password',\n",
    "      database='db_name'\n",
    "  )\n",
    "\n",
    "# コネクションが切れた時に再接続してくれるよう設定\n",
    "session.ping(reconnect=True)\n",
    "\n",
    "# 接続できているかどうか確認\n",
    "print(session.is_connected())\n",
    "\n",
    "# DB操作用にカーソルを作成\n",
    "cur = session.cursor()\n"
   ]
  },
  {
   "cell_type": "code",
   "execution_count": null,
   "id": "d63b007f-0872-40ee-b24e-255c93a64b72",
   "metadata": {},
   "outputs": [],
   "source": [
    "#cur.execute(\"SELECT @@global.autocommit\")\n"
   ]
  },
  {
   "cell_type": "code",
   "execution_count": null,
   "id": "38cbeb97-2910-4d46-a050-998308e71fac",
   "metadata": {},
   "outputs": [],
   "source": [
    "cur.execute(\"SELECT * FROM horse_seiseki WHERE (year = 21) ORDER BY race_horse_id ASC limit 5\")\n",
    "rows = cur.fetchall()\n",
    "for row in rows:\n",
    "    print('data=', row)\n"
   ]
  },
  {
   "cell_type": "raw",
   "id": "c42627a0-8a4f-4b01-bd41-ebde97af3f03",
   "metadata": {},
   "source": [
    "cur.execute(\"DELETE FROM horse_seiseki WHERE year = 21\")\n"
   ]
  },
  {
   "cell_type": "code",
   "execution_count": null,
   "id": "5c9cf48c-6d90-40d8-ab53-24e254910001",
   "metadata": {},
   "outputs": [],
   "source": [
    "#cur.execute(\"SELECT * FROM horse_seiseki WHERE (blood_number = 2016104532) ORDER BY id ASC\")\n",
    "cur.execute(\"SELECT * FROM horse_seiseki WHERE (year = 21)\")\n",
    "# 全てのデータを取得\n",
    "rows = cur.fetchall()\n",
    "print(len(rows))\n",
    "\n",
    "for row in rows:\n",
    "    #print('data=', row)\n",
    "    #print('data=', str(row[10])[:16])\n",
    "    raceid = str(row[10])[:16]\n",
    "    #print(f\"UPDATE horse_seiseki SET race_id={raceid} WHERE id={row[0]}\")\n",
    "    cur.execute(f\"UPDATE horse_seiseki SET race_id={raceid} WHERE id={row[0]}\")\n"
   ]
  },
  {
   "cell_type": "code",
   "execution_count": null,
   "id": "59479f30-cc52-4a72-8f9b-609fa6512ce2",
   "metadata": {},
   "outputs": [],
   "source": [
    "path = './data/ZI/'\n",
    "savefilename = 'ZI.csv' # 保存するファイル名、フルパスで指定\n"
   ]
  },
  {
   "cell_type": "code",
   "execution_count": null,
   "id": "ce99c98f-ab47-41b6-9df0-840b31c7088a",
   "metadata": {},
   "outputs": [],
   "source": [
    "df_zi_data = pd.read_csv(path + savefilename)\n",
    "df_zi_data.columns = ['horse_id', 'ZI']\n",
    "df_zi_data"
   ]
  },
  {
   "cell_type": "code",
   "execution_count": null,
   "id": "0d6e2201-0345-4618-b845-2192e9cc603e",
   "metadata": {},
   "outputs": [],
   "source": [
    "df_zi_data.query('horse_id==201501040601010102')['ZI'].values[0]"
   ]
  },
  {
   "cell_type": "markdown",
   "id": "495c36e7-0526-4265-b7cb-767cfe77e82e",
   "metadata": {},
   "source": [
    "## 斤量差を求めてみる"
   ]
  },
  {
   "cell_type": "code",
   "execution_count": null,
   "id": "d7bdd66e-4042-498c-ab76-aca2fc2f8809",
   "metadata": {},
   "outputs": [],
   "source": [
    "cur.execute(\"SELECT * FROM horse_seiseki WHERE (year >= 14 and year <= 21) ORDER BY race_id ASC\")\n",
    "#cur.execute(\"SELECT * FROM horse_seiseki WHERE (year = 21) ORDER BY race_id ASC\")\n",
    "rows = cur.fetchall()\n",
    "#for row in rows:\n",
    "#    print('data=', row)\n",
    "cols =  ['id', '年', '月', '日', '日付S', '回次', '場所', '日次', '発走時刻', 'レース番号', 'レースID',\n",
    "       '略レース名', 'クラスコード', '芝・ダ', 'トラックコード', 'コーナー回数', '距離', 'コース区分', '馬場状態',\n",
    "       '天候', '馬名', '性別', '年齢', '騎手', '斤量', 'ブリンカー', '頭数', '枠番', '馬番', '入先着順',\n",
    "       '異常コード', '確定着順', '着差タイム', '人気', '走破タイム秒', 'タイムS', '補正タイム', '補9',\n",
    "       '通過順1角', '通過順2角', '通過順3角', '通過順4角', '脚質', '上がり3F', '馬体重', '増減', '調教師',\n",
    "       '所属', '賞金', '血統登録番号', '騎手コード', '調教師コード', '馬主名', '生産者名', '父馬名', '母馬名',\n",
    "       '母の父名', '毛色', '生年月日', '単勝オッズ', 'PCI', 'RPCI', 'PCI3', 'Ave-3F', 'レース名',\n",
    "       '年齢限定競走種別コード', '競走記号コード', '重量コード', '1着本賞金', 'race_id', 'ZI', 'レース間隔_週', 'jocky_weight_diff', 'created_at', 'updated_at']\n",
    "ddd = pd.DataFrame(rows, columns=cols)\n",
    "ddd"
   ]
  },
  {
   "cell_type": "code",
   "execution_count": null,
   "id": "4c17c70c-60ee-46e2-b5e2-924b537c8f23",
   "metadata": {},
   "outputs": [],
   "source": [
    "%%time\n",
    "\n",
    "from datetime import datetime\n",
    "\n",
    "# 競走馬の出走間隔を、週単位で算出する\n",
    "def race_interval(arr):\n",
    "    raceinterval = np.zeros(arr.shape[0])\n",
    "\n",
    "    for i in range(arr.shape[0]):\n",
    "        if i == 0:\n",
    "            d = arr[i].split('.')\n",
    "            d1 = datetime(int(d[0]), int(d[1]), int(d[2]))\n",
    "            continue\n",
    "        #print(i, arr[i])\n",
    "        d = arr[i].split('.')\n",
    "        d2 = datetime(int(d[0]), int(d[1]), int(d[2]))\n",
    "        # レース間隔を取得\n",
    "        dt = d2 - d1\n",
    "        raceinterval[i] = dt.days // 7\n",
    "         # 前の値を更新\n",
    "        d1 = d2\n",
    "    return raceinterval\n",
    "\n",
    "bloodids = ddd['血統登録番号'].unique()\n",
    "i = 0\n",
    "\n",
    "for bloodid in bloodids:\n",
    "    one_horse = ddd.query('血統登録番号 == @bloodid')[['レースID', '日付S', '斤量']]\n",
    "    one_horse['斤量差'] = one_horse['斤量'].diff()\n",
    "    one_horse['斤量差'] = one_horse['斤量差'].fillna(0.) # NaNも0.0に変換する\n",
    "    \n",
    "    one_horse['レース間隔week'] = race_interval(one_horse['日付S'].values)\n",
    "    one_horse['レース間隔week'] = one_horse['レース間隔week'].astype(int)\n",
    "\n",
    "    #print(one_horse)\n",
    "    for race_unit in one_horse.itertuples():\n",
    "        #if np.isnan(race_unit[4]):\n",
    "        #    print(race_unit[4])\n",
    "        #    race_unit[4] = 0. # Tupleは上書きできないのでエラー\n",
    "        #print(race_unit[1], race_unit[4], race_unit[5])\n",
    "        cur.execute(f\"UPDATE horse_seiseki SET race_interval_week={race_unit[5]}, jocky_weight_diff={race_unit[4]} WHERE race_horse_id={race_unit[1]}\")\n",
    "    \n",
    "    #if i > 0:\n",
    "    #    break\n",
    "    #i += 1"
   ]
  },
  {
   "cell_type": "code",
   "execution_count": null,
   "id": "8c58fadc-54c5-4c59-865a-31921a12652e",
   "metadata": {},
   "outputs": [],
   "source": [
    "cur.execute(\"COMMIT\")"
   ]
  },
  {
   "cell_type": "code",
   "execution_count": null,
   "id": "1d626975-75be-46e2-b41e-6442b2a9c266",
   "metadata": {},
   "outputs": [],
   "source": []
  },
  {
   "cell_type": "code",
   "execution_count": null,
   "id": "8f5438ac-6be9-43c1-9b45-596cbae09c46",
   "metadata": {},
   "outputs": [],
   "source": [
    "%%time\n",
    "\n",
    "#cur.execute(\"SELECT * FROM horse_seiseki WHERE (blood_number = 2016104532) ORDER BY id ASC\")\n",
    "cur.execute(\"SELECT * FROM horse_seiseki WHERE (year = 21)\")\n",
    "# 全てのデータを取得\n",
    "rows = cur.fetchall()\n",
    "print(len(rows))\n",
    "\n",
    "zi_data = []\n",
    "for row in tqdm(rows):\n",
    "    try:\n",
    "        #print('data=', row)\n",
    "        #print('data=', str(row[10])[:16])\n",
    "        raceid = row[10]\n",
    "        zi = df_zi_data.query(f'horse_id=={raceid}')['ZI'].values[0].item()\n",
    "        #print(f\"UPDATE horse_seiseki SET race_id={raceid} WHERE id={row[0]}\")\n",
    "        #print(f\"UPDATE horse_seiseki SET zi={zi} WHERE race_horse_id={raceid}\")\n",
    "        #print(type(zi), type(raceid))\n",
    "        zi_data.append((zi, raceid)) # tupleで追加\n",
    "    except Exception as e:\n",
    "        #print(raceid, e)\n",
    "        pass\n",
    "\n",
    "if zi_data:\n",
    "    print(f'-- コミット開始 {len(zi_data)} 個 --')\n",
    "    #print(zi_data)\n",
    "    sql = \"UPDATE horse_seiseki SET zi = %s WHERE race_horse_id = %s\"\n",
    "    cur.executemany(sql, zi_data)\n",
    "    cur.execute(\"COMMIT\")\n",
    "    print('-- コミット完了 --')\n",
    "else:\n",
    "    print(f'xx コミット失敗 {len(zi_data)} 個 xx')\n",
    "    "
   ]
  },
  {
   "cell_type": "code",
   "execution_count": null,
   "id": "323d876c-fba2-4b80-adb6-f1f357a87e6d",
   "metadata": {},
   "outputs": [],
   "source": [
    "zi_data[0]"
   ]
  },
  {
   "cell_type": "code",
   "execution_count": null,
   "id": "af4c6de8-4381-416f-a5bb-92113f341972",
   "metadata": {},
   "outputs": [],
   "source": [
    "cur.close()"
   ]
  },
  {
   "cell_type": "code",
   "execution_count": null,
   "id": "2d679930-e9c4-4c9e-a0dd-f3d185ad2c9a",
   "metadata": {},
   "outputs": [],
   "source": []
  },
  {
   "cell_type": "code",
   "execution_count": null,
   "id": "2de2a844-7805-4e00-93f9-a05553c4ae18",
   "metadata": {},
   "outputs": [],
   "source": [
    "cur.execute(\"SELECT * FROM users ORDER BY id ASC\")\n",
    "\n",
    "# 全てのデータを取得\n",
    "rows = cur.fetchall()\n",
    "print(len(rows))\n"
   ]
  },
  {
   "cell_type": "code",
   "execution_count": null,
   "id": "dc8967b4-da2b-4e9b-89f1-59fa4688d628",
   "metadata": {},
   "outputs": [],
   "source": [
    "for row in rows:\n",
    "    print('data=', row)\n"
   ]
  },
  {
   "cell_type": "code",
   "execution_count": null,
   "id": "6acc8ea0-8122-4942-88f5-6641446d247a",
   "metadata": {},
   "outputs": [],
   "source": [
    "# executemanyで複数データを一度に挿入\n",
    "records = [\n",
    "  ('高橋よしのぶ', 43),\n",
    "  ('阿部しんのすけ', 41),\n",
    "]\n",
    "cur.executemany(\"INSERT INTO users (`name`, `age`) VALUES (%s, %s)\", records)\n",
    "\n"
   ]
  },
  {
   "cell_type": "code",
   "execution_count": null,
   "id": "1d21e43c-f041-4edd-afff-04f04cedf1ba",
   "metadata": {},
   "outputs": [],
   "source": [
    "cur.execute(\"COMMIT\") # その他の接続でも見れるように(ROLLBACKが出来なくなる)"
   ]
  },
  {
   "cell_type": "code",
   "execution_count": null,
   "id": "aba833d0-fd25-4dde-bc8a-6d07233429dc",
   "metadata": {},
   "outputs": [],
   "source": []
  },
  {
   "cell_type": "markdown",
   "id": "c0838191-fc88-4972-ab50-cb67e434c7bf",
   "metadata": {},
   "source": [
    "## 訓練データをデータベースへ登録"
   ]
  },
  {
   "cell_type": "code",
   "execution_count": null,
   "id": "2b496742-8f8b-4a16-b009-df0c17a43ca3",
   "metadata": {},
   "outputs": [],
   "source": [
    "horse_data = pd.read_csv('data/HorseSeiseki2008-2020+ZI.csv')\n",
    "print(horse_data.columns, len(horse_data.columns)) # 71 col"
   ]
  },
  {
   "cell_type": "code",
   "execution_count": null,
   "id": "07c6cbc1-72a2-453b-a7bb-a4bd40f38f54",
   "metadata": {},
   "outputs": [],
   "source": [
    "df_horse_data = horse_data.query('11<=年<=20').sort_values(['レースID'])\n",
    "df_horse_data.info()"
   ]
  },
  {
   "cell_type": "markdown",
   "id": "b74c2771-6da6-4b11-abaa-179e1193bc31",
   "metadata": {},
   "source": [
    "### データクレンジング"
   ]
  },
  {
   "cell_type": "code",
   "execution_count": null,
   "id": "faa9d466-2a36-4d98-91c3-c1a7f1cbd47b",
   "metadata": {},
   "outputs": [],
   "source": [
    "def data_cleansing(horse_data):\n",
    "    try:\n",
    "        # ブリンカー\n",
    "        #horse_data['ブリンカー'].unique() # array([nan, 'B'], dtype=object)\n",
    "        horse_data['ブリンカー'].fillna(0, inplace=True) # 0    593765 付けてない\n",
    "                                                          # B     50579\n",
    "        # INTカラム -1 で埋める\n",
    "        horse_data['コーナー回数'].fillna(-1, inplace=True)\n",
    "        horse_data['補正タイム'].fillna(-1, inplace=True)\n",
    "        horse_data['補9'].fillna(-1, inplace=True)\n",
    "        horse_data['馬体重'].fillna(-1, inplace=True)\n",
    "        horse_data['増減'].fillna(-999, inplace=True) # -999ありえない数値で埋めてみる\n",
    "        horse_data['人気'].fillna(-999, inplace=True) # -999ありえない数値で埋めてみる\n",
    "\n",
    "        # FLOATカラム -1.0で埋める\n",
    "        horse_data['上がり3F'].fillna(-1.0, inplace=True) # -1.0ありえない数値で埋めてみる\n",
    "        horse_data['単勝オッズ'].fillna(-1.0, inplace=True) # -1.0ありえない数値で埋めてみる\n",
    "        horse_data['Ave-3F'].fillna(-1.0, inplace=True) # -1.0ありえない数値で埋めてみる\n",
    "        horse_data['PCI'].fillna(-1.0, inplace=True) # -1.0ありえない数値で埋めてみる\n",
    "        horse_data['RPCI'].fillna(-1.0, inplace=True) # -1.0ありえない数値で埋めてみる\n",
    "        horse_data['PCI3'].fillna(-1.0, inplace=True) # -1.0ありえない数値で埋めてみる\n",
    "        horse_data['着差タイム'].replace('----', 99.9, inplace=True) # '----' 異常コード1以上の場合\n",
    "\n",
    "        # charカラム スペース で埋める\n",
    "        horse_data['コース区分'].fillna('', inplace=True)\n",
    "        horse_data['脚質'].fillna('', inplace=True) # 脚質が定まっていない？\n",
    "\n",
    "        # 例外の起こる可能性あり\n",
    "        # INTカラム -1 で埋める\n",
    "        horse_data['ZI'].fillna(-1, inplace=True)\n",
    "    except KeyError as e:\n",
    "        print('KeyError', e)\n",
    "    except Exception as e:\n",
    "        print(e)"
   ]
  },
  {
   "cell_type": "code",
   "execution_count": null,
   "id": "77489d3c-7dce-4283-aa46-796a551e2dd1",
   "metadata": {},
   "outputs": [],
   "source": [
    "data_cleansing(df_horse_data)"
   ]
  },
  {
   "cell_type": "code",
   "execution_count": null,
   "id": "d663b51c-4bd9-4b62-b516-e907a7023d2b",
   "metadata": {},
   "outputs": [],
   "source": [
    "#df_horse_data['レースID'].map(lambda x: str(rid)[:16])\n"
   ]
  },
  {
   "cell_type": "code",
   "execution_count": null,
   "id": "f7646929-a57b-41d6-a48d-27da377e992f",
   "metadata": {},
   "outputs": [],
   "source": [
    "df_horse_data['血統登録番号'].unique()"
   ]
  },
  {
   "cell_type": "code",
   "execution_count": null,
   "id": "666d1007-39e8-4aa8-80ee-11b71de09836",
   "metadata": {},
   "outputs": [],
   "source": [
    "df_horse_data[df_horse_data['馬名']=='グランアレグリア'][['略レース名', '入先着順', '騎手', '馬番', '上がり3F', 'Ave-3F', '馬体重', '増減', '調教師', '所属', '賞金', '血統登録番号']]"
   ]
  },
  {
   "cell_type": "code",
   "execution_count": null,
   "id": "6dbf4705-d797-4216-b9de-089b7b2e00ce",
   "metadata": {},
   "outputs": [],
   "source": [
    "#df_horse_data['異常コード'].value_counts()\n",
    "df_horse_data[df_horse_data['着差タイム']=='----'][['異常コード', '場所', '芝・ダ', '距離', '略レース名', '走破タイム秒', '着差タイム']]"
   ]
  },
  {
   "cell_type": "code",
   "execution_count": null,
   "id": "606aa78c-de4e-42c2-9d8c-c8f75159feae",
   "metadata": {},
   "outputs": [],
   "source": [
    "df_horse_data[df_horse_data['着差タイム'].isnull()][['場所', '芝・ダ', '距離', '略レース名', '走破タイム秒', '着差タイム']]"
   ]
  },
  {
   "cell_type": "markdown",
   "id": "b0d64833-199d-40dc-a6ab-2efa72bd82bf",
   "metadata": {},
   "source": [
    "### 型変換"
   ]
  },
  {
   "cell_type": "code",
   "execution_count": null,
   "id": "2a8d79e9-f5ea-4a99-bcfc-6b3e64f2b908",
   "metadata": {},
   "outputs": [],
   "source": [
    "cols = ['年', '月', '日', '回次', 'レース番号', 'レースID', 'クラスコード', 'トラックコード', 'コーナー回数', '距離', '年齢', '頭数', '枠番', '馬番', '入先着順', '異常コード', '確定着順', \\\n",
    "        '人気', '補正タイム', '補9', '通過順1角', '通過順2角', '通過順3角', '通過順4角', '馬体重', '増減', '賞金', '血統登録番号', '騎手コード', '調教師コード', '生年月日', \\\n",
    "        '年齢限定競走種別コード', '重量コード', '1着本賞金', 'race_id', 'ZI', 'レース間隔_週']\n",
    "\n",
    "try:\n",
    "    for col in cols:\n",
    "        df_horse_data[col] = df_horse_data[col].astype(int)\n",
    "except Exception as e:\n",
    "    print(e, '-->', col)"
   ]
  },
  {
   "cell_type": "code",
   "execution_count": null,
   "id": "108e2b94-64da-4736-98c9-44c31131a150",
   "metadata": {},
   "outputs": [],
   "source": [
    "df_horse_data.isnull().sum().tail()"
   ]
  },
  {
   "cell_type": "code",
   "execution_count": null,
   "id": "91acd728-98b5-477f-b7ef-0684a91834a6",
   "metadata": {},
   "outputs": [],
   "source": [
    "df_horse_data.info()"
   ]
  },
  {
   "cell_type": "code",
   "execution_count": null,
   "id": "11872512-496d-4831-8aef-e52cf352d151",
   "metadata": {},
   "outputs": [],
   "source": [
    "df_horse_data.tail()"
   ]
  },
  {
   "cell_type": "code",
   "execution_count": null,
   "id": "9e5fed64-d2ae-4982-9694-2de8ee5a75c9",
   "metadata": {},
   "outputs": [],
   "source": [
    "df_horse_data[['人気', '走破タイム秒', 'タイムS', '補正タイム', '補9', 'ZI']]"
   ]
  },
  {
   "cell_type": "code",
   "execution_count": null,
   "id": "d28f2c24-412c-4c83-8cd2-192e53e9e461",
   "metadata": {},
   "outputs": [],
   "source": [
    "#type(result[0][0])"
   ]
  },
  {
   "cell_type": "code",
   "execution_count": null,
   "id": "dee5893d-db5a-46e6-a9cc-68104dcda769",
   "metadata": {},
   "outputs": [],
   "source": [
    "# 馬ごとの成績データをデータベースへ登録する関数\n",
    "\n",
    "def insert_table_all_train_data(horse_seiseki):\n",
    "    try:\n",
    "        years = horse_seiseki['年'].unique()\n",
    "        for year in years:\n",
    "            print('-', year, '年 ---')\n",
    "            one_sycle = horse_seiseki.query('年==@year')\n",
    "            horses = one_sycle.values.tolist()\n",
    "\n",
    "            cur.executemany(\"INSERT INTO horse_seiseki (`year`, `month`, `day`, `date_short`, `kaiji`, \\\n",
    "                                                        `venue`, `nichiji`, `starts_at`, `race_no`, `race_horse_id`, \\\n",
    "                                                        `short_race_name`, `class_code`, `tarf_or_dart`, `track_code`, `times_corner`, \\\n",
    "                                                        `distance`, `cource_classification`, `venue_status`, `weather`, `horse_name`, \\\n",
    "                                                        `horse_sex`, `horse_age`, `jocky_name`, `jocky_weight`, `horse_gear`, \\\n",
    "                                                        `number_count`, `waku_number`, `uma_number`, `target_rank`, `abnormality_code`, \\\n",
    "                                                        `fixed_target_rank`, `time_diff`, `polularity`, `running_time_sec`, `running_time`, \\\n",
    "                                                        `adjustment_time`, `adjustment_time9`, `corner_rank1`, `corner_rank2`, `corner_rank3`, \\\n",
    "                                                        `corner_rank4`, `leg_type`, `last3_f`, `horse_weight`, `horse_weight_diff`, \\\n",
    "                                                        `trainer_name`, `home_ground`, `race_prize`, `blood_number`, `jocky_code`, \\\n",
    "                                                        `trainer_code`, `owner_name`, `producer_name`, `fathers_name`, `mothers_name`, \\\n",
    "                                                        `ground_father_name`, `fur_color`, `horse_birthday`, `tansho_odds`, `pci`, \\\n",
    "                                                        `rpci`, `pci3`, `ave3f`, `race_name`, `race_kind_code`, \\\n",
    "                                                        `race_mark_code`, `weight_code`, `real_prize`, `race_id`, `zi`, `race_interval_week` \\\n",
    "                                                       ) VALUES (%s, %s, %s, %s, %s, %s, %s, %s, %s, %s, \\\n",
    "                                                                 %s, %s, %s, %s, %s, %s, %s, %s, %s, %s, \\\n",
    "                                                                 %s, %s, %s, %s, %s, %s, %s, %s, %s, %s, \\\n",
    "                                                                 %s, %s, %s, %s, %s, %s, %s, %s, %s, %s, \\\n",
    "                                                                 %s, %s, %s, %s, %s, %s, %s, %s, %s, %s, \\\n",
    "                                                                 %s, %s, %s, %s, %s, %s, %s, %s, %s, %s, \\\n",
    "                                                                 %s, %s, %s, %s, %s, %s, %s, %s, %s, %s, %s)\", horses)\n",
    "        # 1ループ（1年単位）で反映\n",
    "        cur.execute(\"COMMIT\")\n",
    "    except Exception as e:\n",
    "        print(e)\n",
    "    else:\n",
    "        print('- 完了')"
   ]
  },
  {
   "cell_type": "code",
   "execution_count": null,
   "id": "9d9670d2-7ae7-4934-8c49-30e212e310fa",
   "metadata": {},
   "outputs": [],
   "source": [
    "%%time\n",
    "\n",
    "insert_table_all_train_data(df_horse_data)"
   ]
  },
  {
   "cell_type": "code",
   "execution_count": null,
   "id": "ab039d29-5cd3-4e85-a662-5aca138315fa",
   "metadata": {},
   "outputs": [],
   "source": [
    "horses = df_horse_data.values.tolist()"
   ]
  },
  {
   "cell_type": "code",
   "execution_count": null,
   "id": "fa48967d-1730-4c74-bffa-bcfded361b93",
   "metadata": {},
   "outputs": [],
   "source": [
    "%%time\n",
    "'''\n",
    "#for i, (name, soundrate, playtime, codec, waterproof) in enumerate(zip(names, rates, plytms, codecs, wtrprfs),1):\n",
    "#    id = (i, name, soundrate, playtime, codec, waterproof)\n",
    "#    horses.append(id)\n",
    "    \n",
    "records = df_horse_data.to_records(index=False)\n",
    "#print(type(records)) #'numpy.recarray'\n",
    "result = list(records)\n",
    "#print(type(result[0])) #'numpy.record'\n",
    "horses = [tuple(x) for x in result]\n",
    "#print(result[0:2]), len(result)\n",
    "#horses[0]\n",
    "'''"
   ]
  },
  {
   "cell_type": "code",
   "execution_count": null,
   "id": "a17079d1-78c7-4c6e-abc0-8d0082773eb1",
   "metadata": {},
   "outputs": [],
   "source": [
    "type(horses[0][0])"
   ]
  },
  {
   "cell_type": "code",
   "execution_count": null,
   "id": "270f7aa8-5959-446c-b27b-fbdfa7a18c2b",
   "metadata": {},
   "outputs": [],
   "source": [
    "#type(int(horses[0][2]))\n",
    "records = [\n",
    "  (int(horses[0][0]), int(horses[0][1]), int(horses[0][2]), horses[0][3], int(horses[0][4])),\n",
    "  (int(horses[1][0]), int(horses[1][1]), int(horses[1][2]), horses[1][3], int(horses[1][4])),\n",
    "]\n"
   ]
  },
  {
   "cell_type": "code",
   "execution_count": null,
   "id": "b414d971-56be-492b-8852-7bfc4c148a6a",
   "metadata": {},
   "outputs": [],
   "source": [
    "%%time\n",
    "\n",
    "#cur.executemany(\"INSERT INTO horse_seiseki (`year`, `month`, `day`, `date_short`, `kaiji`) \\\n",
    "#                                          VALUES (%s, %s, %s, %s, %s)\", records)\n",
    "\n",
    "\n",
    "cur.executemany(\"INSERT INTO horse_seiseki (`year`, `month`, `day`, `date_short`, `kaiji`, \\\n",
    "                                            `venue`, `nichiji`, `starts_at`, `race_no`, `race_horse_id`, \\\n",
    "                                            `short_race_name`, `class_code`, `tarf_or_dart`, `track_code`, `times_corner`, \\\n",
    "                                            `distance`, `cource_classification`, `venue_status`, `weather`, `horse_name`, \\\n",
    "                                            `horse_sex`, `horse_age`, `jocky_name`, `jocky_weight`, `horse_gear`, \\\n",
    "                                            `number_count`, `waku_number`, `uma_number`, `target_rank`, `abnormality_code`, \\\n",
    "                                            `fixed_target_rank`, `time_diff`, `polularity`, `running_time_sec`, `running_time`, \\\n",
    "                                            `adjustment_time`, `adjustment_time9`, `corner_rank1`, `corner_rank2`, `corner_rank3`, \\\n",
    "                                            `corner_rank4`, `leg_type`, `last3_f`, `horse_weight`, `horse_weight_diff`, \\\n",
    "                                            `trainer_name`, `home_ground`, `race_prize`, `blood_number`, `jocky_code`, \\\n",
    "                                            `trainer_code`, `owner_name`, `producer_name`, `fathers_name`, `mothers_name`, \\\n",
    "                                            `ground_father_name`, `fur_color`, `horse_birthday`, `tansho_odds`, `pci`, \\\n",
    "                                            `rpci`, `pci3`, `ave3f`, `race_name`, `race_kind_code`, \\\n",
    "                                            `race_mark_code`, `weight_code`, `real_prize`, `race_id`, `zi`, `race_interval_week` \\\n",
    "                                           ) VALUES (%s, %s, %s, %s, %s, %s, %s, %s, %s, %s, \\\n",
    "                                                     %s, %s, %s, %s, %s, %s, %s, %s, %s, %s, \\\n",
    "                                                     %s, %s, %s, %s, %s, %s, %s, %s, %s, %s, \\\n",
    "                                                     %s, %s, %s, %s, %s, %s, %s, %s, %s, %s, \\\n",
    "                                                     %s, %s, %s, %s, %s, %s, %s, %s, %s, %s, \\\n",
    "                                                     %s, %s, %s, %s, %s, %s, %s, %s, %s, %s, \\\n",
    "                                                     %s, %s, %s, %s, %s, %s, %s, %s, %s, %s, %s)\", horses)\n",
    "\n"
   ]
  },
  {
   "cell_type": "code",
   "execution_count": null,
   "id": "d55ffdc5-db5c-40c6-a34f-ce052e79b853",
   "metadata": {},
   "outputs": [],
   "source": [
    "cur.execute(\"SELECT * FROM horse_seiseki ORDER BY id ASC\")\n",
    "# 全てのデータを取得\n",
    "rows = cur.fetchall()\n",
    "print(len(rows))\n"
   ]
  },
  {
   "cell_type": "code",
   "execution_count": null,
   "id": "3d2b450b-d91f-4f0e-a5c0-5f74f49ae063",
   "metadata": {},
   "outputs": [],
   "source": [
    "# カラムの取得\n",
    "cur.execute(\"DESC horse_seiseki\")\n",
    "rows = cur.fetchall()\n",
    "print(type(rows), rows[5])\n",
    "#for row in rows:\n",
    "#    print(row[0])"
   ]
  },
  {
   "cell_type": "code",
   "execution_count": null,
   "id": "cec21a99-637b-4c21-9a93-ada9be669ed6",
   "metadata": {},
   "outputs": [],
   "source": [
    "cur.execute(\"COMMIT\")"
   ]
  },
  {
   "cell_type": "code",
   "execution_count": null,
   "id": "ee457c26-f44d-451a-a13c-11e97e9d6c16",
   "metadata": {},
   "outputs": [],
   "source": [
    "# 【注意】テーブルの初期化\n",
    "cur.execute(\"TRUNCATE TABLE horse_seiseki\")"
   ]
  },
  {
   "cell_type": "code",
   "execution_count": null,
   "id": "67bb1d89-7066-405e-add0-ffd8cc239f88",
   "metadata": {},
   "outputs": [],
   "source": []
  },
  {
   "cell_type": "code",
   "execution_count": null,
   "id": "cdfe0e63-0ed5-401a-9171-c09aab6c4f8d",
   "metadata": {},
   "outputs": [],
   "source": []
  },
  {
   "cell_type": "code",
   "execution_count": null,
   "id": "5ea39bef-9d11-4a08-85aa-ad4baee32f98",
   "metadata": {},
   "outputs": [],
   "source": [
    "race_data = pd.read_csv('data/HorseSeiseki2021.csv')\n",
    "cols = ['年',\n",
    "        '月',\n",
    "        '日',\n",
    "        '日付S',\n",
    "        '回次',\n",
    "        '場所',\n",
    "        '日次',\n",
    "        '発走時刻',\n",
    "        'レース番号',\n",
    "        'レースID',\n",
    "        '略レース名',\n",
    "        'クラスコード',\n",
    "        '芝・ダ',\n",
    "        'トラックコード',\n",
    "        'コーナー回数',\n",
    "        '距離',\n",
    "        'コース区分',\n",
    "        '馬場状態',\n",
    "        '天候',\n",
    "        '馬名',\n",
    "        '性別',\n",
    "        '年齢',\n",
    "        '騎手',\n",
    "        '斤量',\n",
    "        'ブリンカー',\n",
    "        '頭数',\n",
    "        '枠番',\n",
    "        '馬番',\n",
    "        '入先着順',\n",
    "        '異常コード',\n",
    "        '確定着順',\n",
    "        '着差タイム',\n",
    "        '人気',\n",
    "        '走破タイム秒',\n",
    "        'タイムS',\n",
    "        '補正タイム',\n",
    "        '補9',\n",
    "        '通過順1角',\n",
    "        '通過順2角',\n",
    "        '通過順3角',\n",
    "        '通過順4角',\n",
    "        '脚質',\n",
    "        '上がり3F',\n",
    "        '馬体重',\n",
    "        '増減',\n",
    "        '調教師',\n",
    "        '所属',\n",
    "        '賞金',\n",
    "        '血統登録番号',\n",
    "        '騎手コード',\n",
    "        '調教師コード',\n",
    "        '馬主名',\n",
    "        '生産者名',\n",
    "        '父馬名',\n",
    "        '母馬名',\n",
    "        '母の父名',\n",
    "        '毛色',\n",
    "        '生年月日',\n",
    "        '単勝オッズ',\n",
    "        'PCI',\n",
    "        'RPCI',\n",
    "        'PCI3',\n",
    "        'Ave-3F',\n",
    "        'レース名',\n",
    "        '年齢限定競走種別コード',\n",
    "        '競走記号コード',\n",
    "        '重量コード',\n",
    "        '1着本賞金',\n",
    "       ]\n",
    "race_data.columns = cols\n"
   ]
  },
  {
   "cell_type": "code",
   "execution_count": null,
   "id": "cf24cc16-9169-4fec-baed-03834936af57",
   "metadata": {},
   "outputs": [],
   "source": [
    "race_data['race_id'] = race_data['レースID'].map(lambda x: str(x)[:16]).astype(int) # レースごとのIDを作る"
   ]
  },
  {
   "cell_type": "code",
   "execution_count": null,
   "id": "cb48f346-3bbb-4c4a-b0fb-b7d38cc3b834",
   "metadata": {},
   "outputs": [],
   "source": [
    "path = './data/ZI/'\n",
    "savefilename = 'ZI.csv' # 保存するファイル名、フルパスで指定\n",
    "\n",
    "df_zi_data = pd.read_csv(path + savefilename)\n",
    "df_zi_data.columns = ['horse_id', 'ZI']\n",
    "race_data = pd.merge(race_data, df_zi_data, left_on='レースID', right_on='horse_id', how='left').drop(columns='horse_id')\n",
    "#race_data['ZI'] = mg['ZI'].fillna(0).astype(int) # データが入っていない項目が3947こ\n",
    "race_data"
   ]
  },
  {
   "cell_type": "code",
   "execution_count": null,
   "id": "cd6030ef-7b67-4f03-84ed-c503815bad79",
   "metadata": {},
   "outputs": [],
   "source": [
    "data_cleansing(race_data)\n",
    "race_data"
   ]
  },
  {
   "cell_type": "code",
   "execution_count": null,
   "id": "8c4b7eca-e75f-4989-8140-acce37a15f15",
   "metadata": {},
   "outputs": [],
   "source": [
    "# 型変換\n",
    "cols = ['年', '月', '日', '回次', 'レース番号', 'レースID', 'クラスコード', 'トラックコード', 'コーナー回数', '距離', '年齢', '頭数', '枠番', '馬番', '入先着順', '異常コード', '確定着順', \\\n",
    "        '人気', '補正タイム', '補9', '通過順1角', '通過順2角', '通過順3角', '通過順4角', '馬体重', '増減', '賞金', '血統登録番号', '騎手コード', '調教師コード', '生年月日', \\\n",
    "        '年齢限定競走種別コード', '重量コード', '1着本賞金', 'race_id', 'ZI']\n",
    "\n",
    "try:\n",
    "    for col in cols:\n",
    "        race_data[col] = race_data[col].astype(int)\n",
    "except Exception as e:\n",
    "    print(e, '-->', col)"
   ]
  },
  {
   "cell_type": "code",
   "execution_count": null,
   "id": "ea321dc5-9a3a-4e75-827a-0350b7c90613",
   "metadata": {},
   "outputs": [],
   "source": [
    "# 馬ごとの成績データをデータベースへ登録する関数\n",
    "\n",
    "def insert_table_a_year_train_data(horse_seiseki):\n",
    "    try:\n",
    "        years = horse_seiseki['年'].unique()\n",
    "        for year in years:\n",
    "            print('-', year, '年 ---')\n",
    "            one_sycle = horse_seiseki.query('年==@year')\n",
    "            horses = one_sycle.values.tolist()\n",
    "\n",
    "            cur.executemany(\"INSERT INTO horse_seiseki (`year`, `month`, `day`, `date_short`, `kaiji`, \\\n",
    "                                                        `venue`, `nichiji`, `starts_at`, `race_no`, `race_horse_id`, \\\n",
    "                                                        `short_race_name`, `class_code`, `tarf_or_dart`, `track_code`, `times_corner`, \\\n",
    "                                                        `distance`, `cource_classification`, `venue_status`, `weather`, `horse_name`, \\\n",
    "                                                        `horse_sex`, `horse_age`, `jocky_name`, `jocky_weight`, `horse_gear`, \\\n",
    "                                                        `number_count`, `waku_number`, `uma_number`, `target_rank`, `abnormality_code`, \\\n",
    "                                                        `fixed_target_rank`, `time_diff`, `polularity`, `running_time_sec`, `running_time`, \\\n",
    "                                                        `adjustment_time`, `adjustment_time9`, `corner_rank1`, `corner_rank2`, `corner_rank3`, \\\n",
    "                                                        `corner_rank4`, `leg_type`, `last3_f`, `horse_weight`, `horse_weight_diff`, \\\n",
    "                                                        `trainer_name`, `home_ground`, `race_prize`, `blood_number`, `jocky_code`, \\\n",
    "                                                        `trainer_code`, `owner_name`, `producer_name`, `fathers_name`, `mothers_name`, \\\n",
    "                                                        `ground_father_name`, `fur_color`, `horse_birthday`, `tansho_odds`, `pci`, \\\n",
    "                                                        `rpci`, `pci3`, `ave3f`, `race_name`, `race_kind_code`, \\\n",
    "                                                        `race_mark_code`, `weight_code`, `real_prize`, `race_id`, `zi` \\\n",
    "                                                       ) VALUES (%s, %s, %s, %s, %s, %s, %s, %s, %s, %s, \\\n",
    "                                                                 %s, %s, %s, %s, %s, %s, %s, %s, %s, %s, \\\n",
    "                                                                 %s, %s, %s, %s, %s, %s, %s, %s, %s, %s, \\\n",
    "                                                                 %s, %s, %s, %s, %s, %s, %s, %s, %s, %s, \\\n",
    "                                                                 %s, %s, %s, %s, %s, %s, %s, %s, %s, %s, \\\n",
    "                                                                 %s, %s, %s, %s, %s, %s, %s, %s, %s, %s, \\\n",
    "                                                                 %s, %s, %s, %s, %s, %s, %s, %s, %s, %s)\", horses)\n",
    "        # 1ループ（1年単位）で反映\n",
    "        cur.execute(\"COMMIT\")\n",
    "    except Exception as e:\n",
    "        print('ERROR ', e)\n",
    "    else:\n",
    "        print('- 完了')"
   ]
  },
  {
   "cell_type": "code",
   "execution_count": null,
   "id": "5382f621-3096-469a-a34b-97570ee0b286",
   "metadata": {},
   "outputs": [],
   "source": [
    "insert_table_a_year_train_data(race_data)\n"
   ]
  },
  {
   "cell_type": "code",
   "execution_count": null,
   "id": "bb37e2f4-eba0-40b8-a0c7-10c26c68399a",
   "metadata": {},
   "outputs": [],
   "source": []
  }
 ],
 "metadata": {
  "kernelspec": {
   "display_name": "Python 3 (ipykernel)",
   "language": "python",
   "name": "python3"
  },
  "language_info": {
   "codemirror_mode": {
    "name": "ipython",
    "version": 3
   },
   "file_extension": ".py",
   "mimetype": "text/x-python",
   "name": "python",
   "nbconvert_exporter": "python",
   "pygments_lexer": "ipython3",
   "version": "3.7.7"
  }
 },
 "nbformat": 4,
 "nbformat_minor": 5
}
