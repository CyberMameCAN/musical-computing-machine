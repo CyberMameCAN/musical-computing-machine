{
 "cells": [
  {
   "cell_type": "code",
   "execution_count": 1,
   "id": "ca4d6b6d-a7c6-45a7-818e-d69973f929e9",
   "metadata": {},
   "outputs": [],
   "source": [
    "# ---------------------------------\n",
    "# データ等の準備\n",
    "# ----------------------------------\n",
    "import numpy as np\n",
    "import pandas as pd"
   ]
  },
  {
   "cell_type": "code",
   "execution_count": 2,
   "id": "fc09e7f8-d81d-465f-8c6f-2407236c9e4b",
   "metadata": {},
   "outputs": [],
   "source": [
    "# train_xは学習データ、train_yは目的変数、test_xはテストデータ\n",
    "# pandasのDataFrame, Seriesで保持します。（numpyのarrayで保持することもあります）\n",
    "\n",
    "train = pd.read_csv('../input/sample-data/train_preprocessed.csv')\n",
    "train_x = train.drop(['target'], axis=1)\n",
    "train_y = train['target']\n",
    "test_x = pd.read_csv('../input/sample-data/test_preprocessed.csv')\n"
   ]
  },
  {
   "cell_type": "code",
   "execution_count": 3,
   "id": "21f7d69e-0a69-4c5a-988a-a2cc57222533",
   "metadata": {},
   "outputs": [
    {
     "data": {
      "text/html": [
       "<div>\n",
       "<style scoped>\n",
       "    .dataframe tbody tr th:only-of-type {\n",
       "        vertical-align: middle;\n",
       "    }\n",
       "\n",
       "    .dataframe tbody tr th {\n",
       "        vertical-align: top;\n",
       "    }\n",
       "\n",
       "    .dataframe thead th {\n",
       "        text-align: right;\n",
       "    }\n",
       "</style>\n",
       "<table border=\"1\" class=\"dataframe\">\n",
       "  <thead>\n",
       "    <tr style=\"text-align: right;\">\n",
       "      <th></th>\n",
       "      <th>id</th>\n",
       "      <th>feat_1</th>\n",
       "      <th>feat_2</th>\n",
       "      <th>feat_3</th>\n",
       "      <th>feat_4</th>\n",
       "      <th>feat_5</th>\n",
       "      <th>feat_6</th>\n",
       "      <th>feat_7</th>\n",
       "      <th>feat_8</th>\n",
       "      <th>feat_9</th>\n",
       "      <th>...</th>\n",
       "      <th>feat_85</th>\n",
       "      <th>feat_86</th>\n",
       "      <th>feat_87</th>\n",
       "      <th>feat_88</th>\n",
       "      <th>feat_89</th>\n",
       "      <th>feat_90</th>\n",
       "      <th>feat_91</th>\n",
       "      <th>feat_92</th>\n",
       "      <th>feat_93</th>\n",
       "      <th>target</th>\n",
       "    </tr>\n",
       "  </thead>\n",
       "  <tbody>\n",
       "    <tr>\n",
       "      <th>0</th>\n",
       "      <td>1</td>\n",
       "      <td>1</td>\n",
       "      <td>0</td>\n",
       "      <td>0</td>\n",
       "      <td>0</td>\n",
       "      <td>0</td>\n",
       "      <td>0</td>\n",
       "      <td>0</td>\n",
       "      <td>0</td>\n",
       "      <td>0</td>\n",
       "      <td>...</td>\n",
       "      <td>1</td>\n",
       "      <td>0</td>\n",
       "      <td>0</td>\n",
       "      <td>0</td>\n",
       "      <td>0</td>\n",
       "      <td>0</td>\n",
       "      <td>0</td>\n",
       "      <td>0</td>\n",
       "      <td>0</td>\n",
       "      <td>Class_1</td>\n",
       "    </tr>\n",
       "    <tr>\n",
       "      <th>1</th>\n",
       "      <td>2</td>\n",
       "      <td>0</td>\n",
       "      <td>0</td>\n",
       "      <td>0</td>\n",
       "      <td>0</td>\n",
       "      <td>0</td>\n",
       "      <td>0</td>\n",
       "      <td>0</td>\n",
       "      <td>1</td>\n",
       "      <td>0</td>\n",
       "      <td>...</td>\n",
       "      <td>0</td>\n",
       "      <td>0</td>\n",
       "      <td>0</td>\n",
       "      <td>0</td>\n",
       "      <td>0</td>\n",
       "      <td>0</td>\n",
       "      <td>0</td>\n",
       "      <td>0</td>\n",
       "      <td>0</td>\n",
       "      <td>Class_1</td>\n",
       "    </tr>\n",
       "    <tr>\n",
       "      <th>2</th>\n",
       "      <td>3</td>\n",
       "      <td>0</td>\n",
       "      <td>0</td>\n",
       "      <td>0</td>\n",
       "      <td>0</td>\n",
       "      <td>0</td>\n",
       "      <td>0</td>\n",
       "      <td>0</td>\n",
       "      <td>1</td>\n",
       "      <td>0</td>\n",
       "      <td>...</td>\n",
       "      <td>0</td>\n",
       "      <td>0</td>\n",
       "      <td>0</td>\n",
       "      <td>0</td>\n",
       "      <td>0</td>\n",
       "      <td>0</td>\n",
       "      <td>0</td>\n",
       "      <td>0</td>\n",
       "      <td>0</td>\n",
       "      <td>Class_1</td>\n",
       "    </tr>\n",
       "    <tr>\n",
       "      <th>3</th>\n",
       "      <td>4</td>\n",
       "      <td>1</td>\n",
       "      <td>0</td>\n",
       "      <td>0</td>\n",
       "      <td>1</td>\n",
       "      <td>6</td>\n",
       "      <td>1</td>\n",
       "      <td>5</td>\n",
       "      <td>0</td>\n",
       "      <td>0</td>\n",
       "      <td>...</td>\n",
       "      <td>0</td>\n",
       "      <td>1</td>\n",
       "      <td>2</td>\n",
       "      <td>0</td>\n",
       "      <td>0</td>\n",
       "      <td>0</td>\n",
       "      <td>0</td>\n",
       "      <td>0</td>\n",
       "      <td>0</td>\n",
       "      <td>Class_1</td>\n",
       "    </tr>\n",
       "    <tr>\n",
       "      <th>4</th>\n",
       "      <td>5</td>\n",
       "      <td>0</td>\n",
       "      <td>0</td>\n",
       "      <td>0</td>\n",
       "      <td>0</td>\n",
       "      <td>0</td>\n",
       "      <td>0</td>\n",
       "      <td>0</td>\n",
       "      <td>0</td>\n",
       "      <td>0</td>\n",
       "      <td>...</td>\n",
       "      <td>1</td>\n",
       "      <td>0</td>\n",
       "      <td>0</td>\n",
       "      <td>0</td>\n",
       "      <td>0</td>\n",
       "      <td>1</td>\n",
       "      <td>0</td>\n",
       "      <td>0</td>\n",
       "      <td>0</td>\n",
       "      <td>Class_1</td>\n",
       "    </tr>\n",
       "  </tbody>\n",
       "</table>\n",
       "<p>5 rows × 95 columns</p>\n",
       "</div>"
      ],
      "text/plain": [
       "   id  feat_1  feat_2  feat_3  feat_4  feat_5  feat_6  feat_7  feat_8  feat_9  \\\n",
       "0   1       1       0       0       0       0       0       0       0       0   \n",
       "1   2       0       0       0       0       0       0       0       1       0   \n",
       "2   3       0       0       0       0       0       0       0       1       0   \n",
       "3   4       1       0       0       1       6       1       5       0       0   \n",
       "4   5       0       0       0       0       0       0       0       0       0   \n",
       "\n",
       "   ...  feat_85  feat_86  feat_87  feat_88  feat_89  feat_90  feat_91  \\\n",
       "0  ...        1        0        0        0        0        0        0   \n",
       "1  ...        0        0        0        0        0        0        0   \n",
       "2  ...        0        0        0        0        0        0        0   \n",
       "3  ...        0        1        2        0        0        0        0   \n",
       "4  ...        1        0        0        0        0        1        0   \n",
       "\n",
       "   feat_92  feat_93   target  \n",
       "0        0        0  Class_1  \n",
       "1        0        0  Class_1  \n",
       "2        0        0  Class_1  \n",
       "3        0        0  Class_1  \n",
       "4        0        0  Class_1  \n",
       "\n",
       "[5 rows x 95 columns]"
      ]
     },
     "execution_count": 3,
     "metadata": {},
     "output_type": "execute_result"
    }
   ],
   "source": [
    "train.head()"
   ]
  },
  {
   "cell_type": "code",
   "execution_count": 4,
   "id": "a51fb488-39b6-42c2-91b8-491aaa177b95",
   "metadata": {},
   "outputs": [],
   "source": [
    "# 学習データを学習データとバリデーションデータに分ける\n",
    "from sklearn.model_selection import KFold\n",
    "\n",
    "kf = KFold(n_splits=4, shuffle=True, random_state=71)\n",
    "tr_idx, va_idx = list(kf.split(train_x))[0]\n",
    "tr_x, va_x = train_x.iloc[tr_idx], train_x.iloc[va_idx]\n",
    "tr_y, va_y = train_y.iloc[tr_idx], train_y.iloc[va_idx]\n"
   ]
  },
  {
   "cell_type": "code",
   "execution_count": 5,
   "id": "25e8a43a-45e0-4ab0-9baf-b766f48bf55f",
   "metadata": {},
   "outputs": [],
   "source": [
    "tr_y = tr_y.str[-1:].astype(float)\n",
    "va_y = va_y.str[-1:].astype(float)\n",
    "# XGBoostの仕様？　ゼロスタートのため１を引く\n",
    "tr_y = tr_y - 1\n",
    "va_y = va_y - 1\n",
    "\n",
    "#tr_y, va_y"
   ]
  },
  {
   "cell_type": "code",
   "execution_count": 6,
   "id": "452ab7b6-e602-46b2-aad8-93c72d931717",
   "metadata": {},
   "outputs": [],
   "source": [
    "# -----------------------------------\n",
    "# xgboostの実装\n",
    "# -----------------------------------\n",
    "import xgboost as xgb\n",
    "from sklearn.metrics import log_loss\n",
    "\n",
    "# 特徴量と目的変数をxgboostのデータ構造に変換する\n",
    "dtrain = xgb.DMatrix(tr_x, label=tr_y)\n",
    "dvalid = xgb.DMatrix(va_x, label=va_y)\n",
    "dtest = xgb.DMatrix(test_x)\n"
   ]
  },
  {
   "cell_type": "code",
   "execution_count": 7,
   "id": "43b41577-d8ff-4620-8654-22545d93a757",
   "metadata": {},
   "outputs": [
    {
     "name": "stdout",
     "output_type": "stream",
     "text": [
      "[0]\ttrain-merror:0.00575\teval-merror:0.00511\n",
      "[1]\ttrain-merror:0.00125\teval-merror:0.00129\n",
      "[2]\ttrain-merror:0.00011\teval-merror:0.00026\n",
      "[3]\ttrain-merror:0.00000\teval-merror:0.00013\n",
      "[4]\ttrain-merror:0.00000\teval-merror:0.00013\n",
      "[5]\ttrain-merror:0.00000\teval-merror:0.00013\n",
      "[6]\ttrain-merror:0.00000\teval-merror:0.00013\n",
      "[7]\ttrain-merror:0.00000\teval-merror:0.00013\n",
      "[8]\ttrain-merror:0.00000\teval-merror:0.00013\n",
      "[9]\ttrain-merror:0.00000\teval-merror:0.00013\n",
      "[10]\ttrain-merror:0.00000\teval-merror:0.00013\n",
      "[11]\ttrain-merror:0.00000\teval-merror:0.00013\n",
      "[12]\ttrain-merror:0.00000\teval-merror:0.00013\n",
      "[13]\ttrain-merror:0.00000\teval-merror:0.00013\n",
      "[14]\ttrain-merror:0.00000\teval-merror:0.00013\n",
      "[15]\ttrain-merror:0.00000\teval-merror:0.00013\n",
      "[16]\ttrain-merror:0.00000\teval-merror:0.00013\n",
      "[17]\ttrain-merror:0.00000\teval-merror:0.00013\n",
      "[18]\ttrain-merror:0.00000\teval-merror:0.00013\n",
      "[19]\ttrain-merror:0.00000\teval-merror:0.00013\n",
      "[20]\ttrain-merror:0.00000\teval-merror:0.00013\n",
      "[21]\ttrain-merror:0.00000\teval-merror:0.00013\n",
      "[22]\ttrain-merror:0.00000\teval-merror:0.00013\n",
      "[23]\ttrain-merror:0.00000\teval-merror:0.00013\n",
      "[24]\ttrain-merror:0.00000\teval-merror:0.00013\n",
      "[25]\ttrain-merror:0.00000\teval-merror:0.00013\n",
      "[26]\ttrain-merror:0.00000\teval-merror:0.00013\n",
      "[27]\ttrain-merror:0.00000\teval-merror:0.00013\n",
      "[28]\ttrain-merror:0.00000\teval-merror:0.00013\n",
      "[29]\ttrain-merror:0.00000\teval-merror:0.00013\n",
      "[30]\ttrain-merror:0.00000\teval-merror:0.00013\n",
      "[31]\ttrain-merror:0.00000\teval-merror:0.00013\n",
      "[32]\ttrain-merror:0.00000\teval-merror:0.00013\n",
      "[33]\ttrain-merror:0.00000\teval-merror:0.00013\n",
      "[34]\ttrain-merror:0.00000\teval-merror:0.00013\n",
      "[35]\ttrain-merror:0.00000\teval-merror:0.00013\n",
      "[36]\ttrain-merror:0.00000\teval-merror:0.00013\n",
      "[37]\ttrain-merror:0.00000\teval-merror:0.00013\n",
      "[38]\ttrain-merror:0.00000\teval-merror:0.00013\n",
      "[39]\ttrain-merror:0.00000\teval-merror:0.00013\n",
      "[40]\ttrain-merror:0.00000\teval-merror:0.00013\n",
      "[41]\ttrain-merror:0.00000\teval-merror:0.00013\n",
      "[42]\ttrain-merror:0.00000\teval-merror:0.00013\n",
      "[43]\ttrain-merror:0.00000\teval-merror:0.00013\n",
      "[44]\ttrain-merror:0.00000\teval-merror:0.00013\n",
      "[45]\ttrain-merror:0.00000\teval-merror:0.00013\n",
      "[46]\ttrain-merror:0.00000\teval-merror:0.00013\n",
      "[47]\ttrain-merror:0.00000\teval-merror:0.00013\n",
      "[48]\ttrain-merror:0.00000\teval-merror:0.00013\n",
      "[49]\ttrain-merror:0.00000\teval-merror:0.00013\n"
     ]
    }
   ],
   "source": [
    "# ハイパーパラメータの設定\n",
    "#params = {'objective': 'binary:logistic', 'silent': 1, 'random_state': 71}\n",
    "params = {'max_depth': 2, 'eta': 1, 'objective': 'multi:softmax', 'num_class': 9, 'random_state': 71}\n",
    "#params = {'objective': 'multi:softmax', 'num_class': 9, 'random_state': 71}\n",
    "num_round = 50\n",
    "\n",
    "# 学習の実行\n",
    "# バリデーションデータもモデルに渡し、学習の進行とともにスコアがどう変わるかモニタリングする\n",
    "# watchlistには学習データおよびバリデーションデータをセットする\n",
    "watchlist = [(dtrain, 'train'), (dvalid, 'eval')]\n",
    "model = xgb.train(params, dtrain, num_round, evals=watchlist)\n"
   ]
  },
  {
   "cell_type": "code",
   "execution_count": 162,
   "id": "cac82f75-e38a-4015-8662-d470e4f81a4e",
   "metadata": {},
   "outputs": [
    {
     "name": "stdout",
     "output_type": "stream",
     "text": [
      "[0]\ttrain-merror:0.02083\teval-merror:0.04167\n",
      "Multiple eval metrics have been passed: 'eval-merror' will be used for early stopping.\n",
      "\n",
      "Will train until eval-merror hasn't improved in 20 rounds.\n",
      "[1]\ttrain-merror:0.01042\teval-merror:0.08333\n",
      "[2]\ttrain-merror:0.01042\teval-merror:0.08333\n",
      "[3]\ttrain-merror:0.01042\teval-merror:0.08333\n",
      "[4]\ttrain-merror:0.01042\teval-merror:0.08333\n",
      "[5]\ttrain-merror:0.00000\teval-merror:0.08333\n",
      "[6]\ttrain-merror:0.00000\teval-merror:0.08333\n",
      "[7]\ttrain-merror:0.00000\teval-merror:0.08333\n",
      "[8]\ttrain-merror:0.00000\teval-merror:0.08333\n",
      "[9]\ttrain-merror:0.00000\teval-merror:0.08333\n",
      "[10]\ttrain-merror:0.00000\teval-merror:0.08333\n",
      "[11]\ttrain-merror:0.00000\teval-merror:0.08333\n",
      "[12]\ttrain-merror:0.00000\teval-merror:0.08333\n",
      "[13]\ttrain-merror:0.00000\teval-merror:0.08333\n",
      "[14]\ttrain-merror:0.00000\teval-merror:0.08333\n",
      "[15]\ttrain-merror:0.00000\teval-merror:0.08333\n",
      "[16]\ttrain-merror:0.00000\teval-merror:0.08333\n",
      "[17]\ttrain-merror:0.00000\teval-merror:0.08333\n",
      "[18]\ttrain-merror:0.00000\teval-merror:0.08333\n",
      "[19]\ttrain-merror:0.00000\teval-merror:0.08333\n",
      "[20]\ttrain-merror:0.00000\teval-merror:0.08333\n",
      "Stopping. Best iteration:\n",
      "[0]\ttrain-merror:0.02083\teval-merror:0.04167\n",
      "\n"
     ]
    }
   ],
   "source": [
    "# バリデーションデータでのスコアの確認\n",
    "va_pred = model.predict(dvalid)\n",
    "\n",
    "#score = log_loss(va_y.values, va_pred)\n",
    "#print(f'logloss: {score:.4f}')\n",
    "\n",
    "# 予測（二値の予測値ではなく、1である確率を出力するようにしている）\n",
    "pred = model.predict(dtest)\n",
    "\n",
    "# -----------------------------------\n",
    "# 学習データとバリデーションデータのスコアのモニタリング\n",
    "# -----------------------------------\n",
    "# モニタリングをloglossで行い、アーリーストッピングの観察するroundを20とする\n",
    "#params = {'objective': 'binary:logistic', 'silent': 1, 'random_state': 71,\n",
    "#          'eval_metric': 'logloss'}\n",
    "params = {'objective': 'multi:softmax', 'num_class': 9, 'random_state': 71}\n",
    "num_round = 500\n",
    "watchlist = [(dtrain, 'train'), (dvalid, 'eval')]\n",
    "model = xgb.train(params, dtrain, num_round, evals=watchlist, early_stopping_rounds=20)\n",
    "#model = xgb.train(params, dtrain, num_round, evals=watchlist)\n",
    "\n",
    "# 最適な決定木の本数で予測を行う\n",
    "pred = model.predict(dtest, ntree_limit=model.best_ntree_limit)\n"
   ]
  },
  {
   "cell_type": "code",
   "execution_count": 130,
   "id": "fdfb423a-053a-4448-b49a-7cb9e49b7632",
   "metadata": {},
   "outputs": [
    {
     "name": "stdout",
     "output_type": "stream",
     "text": [
      "[0. 0. 0. ... 8. 8. 8.]\n"
     ]
    }
   ],
   "source": [
    "print(va_y.values)"
   ]
  },
  {
   "cell_type": "markdown",
   "id": "73ab75bb-276d-433c-8dab-7bf14d533577",
   "metadata": {},
   "source": [
    "## IRIS"
   ]
  },
  {
   "cell_type": "code",
   "execution_count": 140,
   "id": "da07621f-9627-45cb-9bf4-23f658b0e99f",
   "metadata": {},
   "outputs": [],
   "source": [
    "import xgboost as xgb"
   ]
  },
  {
   "cell_type": "code",
   "execution_count": 163,
   "id": "c811a6ec-de3d-49c7-84a6-7853e6acfeec",
   "metadata": {},
   "outputs": [],
   "source": [
    "import pandas as pd\n",
    "from sklearn.datasets import load_iris\n",
    "\n",
    "iris = load_iris()\n",
    "\n",
    "iris_data = pd.DataFrame(iris.data, columns=iris.feature_names)\n",
    "iris_target = pd.Series(iris.target)"
   ]
  },
  {
   "cell_type": "code",
   "execution_count": 164,
   "id": "453e00ee-42b2-4606-8e65-de2e801f1fc6",
   "metadata": {},
   "outputs": [],
   "source": [
    "from sklearn.model_selection import train_test_split\n",
    "\n",
    "train_x, test_x, train_y, test_y = train_test_split(iris_data, iris_target, test_size=0.2, shuffle=True)"
   ]
  },
  {
   "cell_type": "code",
   "execution_count": 165,
   "id": "06289583-8dfc-4078-a238-c852d916daee",
   "metadata": {},
   "outputs": [],
   "source": [
    "dtrain = xgb.DMatrix(train_x, label=train_y)"
   ]
  },
  {
   "cell_type": "code",
   "execution_count": 166,
   "id": "0dd310fe-fd1e-4734-afe0-f707aafbf929",
   "metadata": {},
   "outputs": [],
   "source": [
    "param = {'max_depth': 2, 'eta': 1, 'objective': 'multi:softmax', 'num_class': 3}"
   ]
  },
  {
   "cell_type": "code",
   "execution_count": 167,
   "id": "9ebdfb6d-9d46-4c02-b4d9-548ffcb492d5",
   "metadata": {},
   "outputs": [],
   "source": [
    "num_round = 10\n",
    "watchlist = [(dtrain, 'train'), (dvalid, 'eval')]\n",
    "#bst = xgb.train(param, dtrain, num_round, evals=watchlist)\n",
    "bst = xgb.train(param, dtrain, num_round)"
   ]
  },
  {
   "cell_type": "code",
   "execution_count": 168,
   "id": "a0f0d49a-d32e-422d-bbda-bef892a40703",
   "metadata": {},
   "outputs": [],
   "source": [
    "dtest = xgb.DMatrix(test_x)\n",
    "pred = bst.predict(dtest)"
   ]
  },
  {
   "cell_type": "code",
   "execution_count": 169,
   "id": "66b76b3d-794d-43b4-8a76-94f6d9f991a7",
   "metadata": {},
   "outputs": [
    {
     "name": "stdout",
     "output_type": "stream",
     "text": [
      "score:0.9667\n"
     ]
    }
   ],
   "source": [
    "from sklearn.metrics import accuracy_score\n",
    "\n",
    "score = accuracy_score(test_y, pred)\n",
    "print('score:{0:.4f}'.format(score))\n",
    "# 0.9667"
   ]
  },
  {
   "cell_type": "code",
   "execution_count": 170,
   "id": "ae8d16f1-4fe6-4a06-bf4d-85f298c87799",
   "metadata": {},
   "outputs": [
    {
     "data": {
      "text/plain": [
       "<AxesSubplot:title={'center':'Feature importance'}, xlabel='F score', ylabel='Features'>"
      ]
     },
     "execution_count": 170,
     "metadata": {},
     "output_type": "execute_result"
    },
    {
     "data": {
      "image/png": "[encoded data removed]",
      "text/plain": [
       "<Figure size 432x288 with 1 Axes>"
      ]
     },
     "metadata": {
      "needs_background": "light"
     },
     "output_type": "display_data"
    }
   ],
   "source": [
    "xgb.plot_importance(bst)"
   ]
  },
  {
   "cell_type": "code",
   "execution_count": 171,
   "id": "31e4ad52-73fa-4b7f-9932-59f97cab5e18",
   "metadata": {},
   "outputs": [],
   "source": [
    "train_x, valid_x, train_y, valid_y = train_test_split(train_x, train_y, test_size=0.2, shuffle=True)"
   ]
  },
  {
   "cell_type": "code",
   "execution_count": 172,
   "id": "45ed1312-79fa-4a6f-a7b4-7ddc8fb51a8c",
   "metadata": {},
   "outputs": [],
   "source": [
    "dtrain = xgb.DMatrix(train_x, label=train_y)\n",
    "dvalid = xgb.DMatrix(valid_x, label=valid_y)\n"
   ]
  },
  {
   "cell_type": "code",
   "execution_count": 174,
   "id": "8af31d11-2d74-4da6-a22b-0897472d032f",
   "metadata": {},
   "outputs": [],
   "source": [
    "#param = {'max_depth': 2, 'eta': 0.5, 'objective': 'multi:softmax', 'num_class': 3, 'eval_metric': 'mlogloss'}\n",
    "param = {'max_depth': 2, 'eta': 0.5, 'objective': 'multi:softmax', 'num_class': 3}\n"
   ]
  },
  {
   "cell_type": "code",
   "execution_count": 175,
   "id": "ebf8951b-838a-4aa6-b517-c50d5bff01ef",
   "metadata": {},
   "outputs": [
    {
     "name": "stdout",
     "output_type": "stream",
     "text": [
      "[0]\teval-merror:0.00000\ttrain-merror:0.05208\n",
      "Multiple eval metrics have been passed: 'train-merror' will be used for early stopping.\n",
      "\n",
      "Will train until train-merror hasn't improved in 5 rounds.\n",
      "[1]\teval-merror:0.00000\ttrain-merror:0.03125\n",
      "[2]\teval-merror:0.00000\ttrain-merror:0.03125\n",
      "[3]\teval-merror:0.00000\ttrain-merror:0.04167\n",
      "[4]\teval-merror:0.00000\ttrain-merror:0.03125\n",
      "[5]\teval-merror:0.00000\ttrain-merror:0.03125\n",
      "[6]\teval-merror:0.00000\ttrain-merror:0.01042\n",
      "[7]\teval-merror:0.00000\ttrain-merror:0.01042\n",
      "[8]\teval-merror:0.00000\ttrain-merror:0.01042\n",
      "[9]\teval-merror:0.00000\ttrain-merror:0.00000\n",
      "[10]\teval-merror:0.00000\ttrain-merror:0.00000\n",
      "[11]\teval-merror:0.00000\ttrain-merror:0.00000\n",
      "[12]\teval-merror:0.00000\ttrain-merror:0.00000\n",
      "[13]\teval-merror:0.04167\ttrain-merror:0.00000\n",
      "[14]\teval-merror:0.04167\ttrain-merror:0.00000\n",
      "Stopping. Best iteration:\n",
      "[9]\teval-merror:0.00000\ttrain-merror:0.00000\n",
      "\n"
     ]
    }
   ],
   "source": [
    "evallist = [(dvalid, 'eval'), (dtrain, 'train')]\n",
    "num_round = 10000\n",
    "bst = xgb.train(param, dtrain, num_round, evallist, early_stopping_rounds=5)\n",
    "# [0]   eval-mlogloss:0.61103   train-mlogloss:0.60698\n",
    "# Multiple eval metrics have been passed: 'train-mlogloss' will be used for early stopping.\n",
    "# \n",
    "# Will train until train-mlogloss hasn't improved in 5 rounds.\n",
    "# [1]   eval-mlogloss:0.36291   train-mlogloss:0.35779\n",
    "# [2]   eval-mlogloss:0.22432   train-mlogloss:0.23488\n",
    "# \n",
    "# 〜〜〜 途中省略 〜〜〜\n",
    "# \n",
    "# Stopping. Best iteration:\n",
    "# [1153]    eval-mlogloss:0.00827   train-mlogloss:0.01863\n"
   ]
  },
  {
   "cell_type": "code",
   "execution_count": 155,
   "id": "af9bc6b8-a3a2-4ce2-97bf-0a152905f716",
   "metadata": {},
   "outputs": [
    {
     "name": "stdout",
     "output_type": "stream",
     "text": [
      "Best Score:0.0150, Iteratin:819, Ntree_Limit:820\n"
     ]
    }
   ],
   "source": [
    "print('Best Score:{0:.4f}, Iteratin:{1:d}, Ntree_Limit:{2:d}'.format(\n",
    "     bst.best_score, bst.best_iteration, bst.best_ntree_limit))\n",
    "# Best Score:0.0186, Iteratin:1153, Ntree_Limit:1154"
   ]
  },
  {
   "cell_type": "code",
   "execution_count": 156,
   "id": "c60fcc45-bde2-4348-87eb-ce521089ffce",
   "metadata": {},
   "outputs": [],
   "source": [
    "dtest = xgb.DMatrix(test_x)\n",
    "pred = ypred = bst.predict(dtest, ntree_limit=bst.best_ntree_limit)"
   ]
  },
  {
   "cell_type": "code",
   "execution_count": 157,
   "id": "78ada80f-7ddf-4644-b4fc-3ec6ba8b955b",
   "metadata": {},
   "outputs": [
    {
     "data": {
      "text/plain": [
       "array([0., 0., 2., 2., 2., 1., 0., 2., 0., 0., 1., 0., 1., 0., 1., 2., 2.,\n",
       "       2., 1., 0., 1., 2., 1., 1., 0., 2., 1., 1., 1., 2.], dtype=float32)"
      ]
     },
     "execution_count": 157,
     "metadata": {},
     "output_type": "execute_result"
    }
   ],
   "source": [
    "pred"
   ]
  },
  {
   "cell_type": "markdown",
   "id": "0c44052e-eca4-4eea-8784-b7269b2252fc",
   "metadata": {},
   "source": [
    "## load_boston\n",
    "回帰モデル（連続性）"
   ]
  },
  {
   "cell_type": "code",
   "execution_count": 176,
   "id": "a46f61a0-9a6e-4241-aa73-3394bd9b87bb",
   "metadata": {},
   "outputs": [
    {
     "name": "stdout",
     "output_type": "stream",
     "text": [
      "(506, 14)\n"
     ]
    },
    {
     "data": {
      "text/html": [
       "<div>\n",
       "<style scoped>\n",
       "    .dataframe tbody tr th:only-of-type {\n",
       "        vertical-align: middle;\n",
       "    }\n",
       "\n",
       "    .dataframe tbody tr th {\n",
       "        vertical-align: top;\n",
       "    }\n",
       "\n",
       "    .dataframe thead th {\n",
       "        text-align: right;\n",
       "    }\n",
       "</style>\n",
       "<table border=\"1\" class=\"dataframe\">\n",
       "  <thead>\n",
       "    <tr style=\"text-align: right;\">\n",
       "      <th></th>\n",
       "      <th>CRIM</th>\n",
       "      <th>ZN</th>\n",
       "      <th>INDUS</th>\n",
       "      <th>CHAS</th>\n",
       "      <th>NOX</th>\n",
       "      <th>RM</th>\n",
       "      <th>AGE</th>\n",
       "      <th>DIS</th>\n",
       "      <th>RAD</th>\n",
       "      <th>TAX</th>\n",
       "      <th>PTRATIO</th>\n",
       "      <th>B</th>\n",
       "      <th>LSTAT</th>\n",
       "      <th>target</th>\n",
       "    </tr>\n",
       "  </thead>\n",
       "  <tbody>\n",
       "    <tr>\n",
       "      <th>0</th>\n",
       "      <td>0.00632</td>\n",
       "      <td>18.0</td>\n",
       "      <td>2.31</td>\n",
       "      <td>0.0</td>\n",
       "      <td>0.538</td>\n",
       "      <td>6.575</td>\n",
       "      <td>65.2</td>\n",
       "      <td>4.0900</td>\n",
       "      <td>1.0</td>\n",
       "      <td>296.0</td>\n",
       "      <td>15.3</td>\n",
       "      <td>396.90</td>\n",
       "      <td>4.98</td>\n",
       "      <td>24.0</td>\n",
       "    </tr>\n",
       "    <tr>\n",
       "      <th>1</th>\n",
       "      <td>0.02731</td>\n",
       "      <td>0.0</td>\n",
       "      <td>7.07</td>\n",
       "      <td>0.0</td>\n",
       "      <td>0.469</td>\n",
       "      <td>6.421</td>\n",
       "      <td>78.9</td>\n",
       "      <td>4.9671</td>\n",
       "      <td>2.0</td>\n",
       "      <td>242.0</td>\n",
       "      <td>17.8</td>\n",
       "      <td>396.90</td>\n",
       "      <td>9.14</td>\n",
       "      <td>21.6</td>\n",
       "    </tr>\n",
       "    <tr>\n",
       "      <th>2</th>\n",
       "      <td>0.02729</td>\n",
       "      <td>0.0</td>\n",
       "      <td>7.07</td>\n",
       "      <td>0.0</td>\n",
       "      <td>0.469</td>\n",
       "      <td>7.185</td>\n",
       "      <td>61.1</td>\n",
       "      <td>4.9671</td>\n",
       "      <td>2.0</td>\n",
       "      <td>242.0</td>\n",
       "      <td>17.8</td>\n",
       "      <td>392.83</td>\n",
       "      <td>4.03</td>\n",
       "      <td>34.7</td>\n",
       "    </tr>\n",
       "    <tr>\n",
       "      <th>3</th>\n",
       "      <td>0.03237</td>\n",
       "      <td>0.0</td>\n",
       "      <td>2.18</td>\n",
       "      <td>0.0</td>\n",
       "      <td>0.458</td>\n",
       "      <td>6.998</td>\n",
       "      <td>45.8</td>\n",
       "      <td>6.0622</td>\n",
       "      <td>3.0</td>\n",
       "      <td>222.0</td>\n",
       "      <td>18.7</td>\n",
       "      <td>394.63</td>\n",
       "      <td>2.94</td>\n",
       "      <td>33.4</td>\n",
       "    </tr>\n",
       "    <tr>\n",
       "      <th>4</th>\n",
       "      <td>0.06905</td>\n",
       "      <td>0.0</td>\n",
       "      <td>2.18</td>\n",
       "      <td>0.0</td>\n",
       "      <td>0.458</td>\n",
       "      <td>7.147</td>\n",
       "      <td>54.2</td>\n",
       "      <td>6.0622</td>\n",
       "      <td>3.0</td>\n",
       "      <td>222.0</td>\n",
       "      <td>18.7</td>\n",
       "      <td>396.90</td>\n",
       "      <td>5.33</td>\n",
       "      <td>36.2</td>\n",
       "    </tr>\n",
       "  </tbody>\n",
       "</table>\n",
       "</div>"
      ],
      "text/plain": [
       "      CRIM    ZN  INDUS  CHAS    NOX     RM   AGE     DIS  RAD    TAX  \\\n",
       "0  0.00632  18.0   2.31   0.0  0.538  6.575  65.2  4.0900  1.0  296.0   \n",
       "1  0.02731   0.0   7.07   0.0  0.469  6.421  78.9  4.9671  2.0  242.0   \n",
       "2  0.02729   0.0   7.07   0.0  0.469  7.185  61.1  4.9671  2.0  242.0   \n",
       "3  0.03237   0.0   2.18   0.0  0.458  6.998  45.8  6.0622  3.0  222.0   \n",
       "4  0.06905   0.0   2.18   0.0  0.458  7.147  54.2  6.0622  3.0  222.0   \n",
       "\n",
       "   PTRATIO       B  LSTAT  target  \n",
       "0     15.3  396.90   4.98    24.0  \n",
       "1     17.8  396.90   9.14    21.6  \n",
       "2     17.8  392.83   4.03    34.7  \n",
       "3     18.7  394.63   2.94    33.4  \n",
       "4     18.7  396.90   5.33    36.2  "
      ]
     },
     "execution_count": 176,
     "metadata": {},
     "output_type": "execute_result"
    }
   ],
   "source": [
    "import pandas as pd\n",
    "from sklearn.datasets import load_boston\n",
    "data = load_boston()\n",
    "df = pd.DataFrame(data[\"data\"], columns = data[\"feature_names\"])\n",
    "df[\"target\"] = data[\"target\"]\n",
    "print(df.shape)\n",
    "df.head()"
   ]
  },
  {
   "cell_type": "code",
   "execution_count": 177,
   "id": "679d0dbb-4a0b-4aa5-9791-6343ad31ff7e",
   "metadata": {},
   "outputs": [
    {
     "name": "stdout",
     "output_type": "stream",
     "text": [
      "0    102\n",
      "4    101\n",
      "1    101\n",
      "2    101\n",
      "3    101\n",
      "Name: fold, dtype: int64\n"
     ]
    }
   ],
   "source": [
    "from sklearn.model_selection import KFold\n",
    "kf = KFold(n_splits=5, shuffle = True) # データを分割してくれる関数\n",
    "df[\"fold\"] = -1\n",
    "for fold, (train_idx, valid_idx) in enumerate(kf.split(df)):\n",
    "    df.loc[valid_idx, \"fold\"] = fold\n",
    "print(df[\"fold\"].value_counts())"
   ]
  },
  {
   "cell_type": "code",
   "execution_count": 179,
   "id": "96318eb3-adb2-450b-9087-53fca27b68f6",
   "metadata": {},
   "outputs": [
    {
     "name": "stdout",
     "output_type": "stream",
     "text": [
      "(404, 15) (102, 15)\n"
     ]
    }
   ],
   "source": [
    "fold = 0\n",
    "train = df.loc[df[\"fold\"] != fold].copy()\n",
    "valid = df.loc[df[\"fold\"] == fold].copy()\n",
    "print(train.shape, valid.shape)"
   ]
  },
  {
   "cell_type": "code",
   "execution_count": 180,
   "id": "d63cf6eb-52dd-4d78-9e71-0b16909209f9",
   "metadata": {},
   "outputs": [
    {
     "name": "stdout",
     "output_type": "stream",
     "text": [
      "['CRIM', 'ZN', 'INDUS', 'CHAS', 'NOX', 'RM', 'AGE', 'DIS', 'RAD', 'TAX', 'PTRATIO', 'B', 'LSTAT']\n"
     ]
    }
   ],
   "source": [
    "feat_cols = train.drop(columns = [\"fold\", \"target\"]).columns.tolist()\n",
    "print(feat_cols)\n",
    "\n",
    "X_train = train[feat_cols]\n",
    "X_valid = valid[feat_cols]\n",
    "y_train = train[\"target\"]\n",
    "y_valid = valid[\"target\"]"
   ]
  },
  {
   "cell_type": "code",
   "execution_count": 181,
   "id": "78fb4588-e51d-49c4-af55-6f0464b1ed74",
   "metadata": {},
   "outputs": [],
   "source": [
    "import xgboost as xgb"
   ]
  },
  {
   "cell_type": "code",
   "execution_count": 182,
   "id": "be5335be-faca-4415-80b1-49adb433e539",
   "metadata": {},
   "outputs": [],
   "source": [
    "dtrain = xgb.DMatrix(X_train, y_train)\n",
    "dvalid = xgb.DMatrix(X_valid, y_valid)"
   ]
  },
  {
   "cell_type": "code",
   "execution_count": 183,
   "id": "36189128-b6eb-416e-be2f-16ae9a193921",
   "metadata": {},
   "outputs": [],
   "source": [
    "params = {\n",
    "    \"objective\" : \"reg:squarederror\", # モデルの種類(回帰や分類など) reg:squarederror >> 回帰モデル “reg”は回帰の”regression”で”squarederror”は二乗誤差\n",
    "    \"eval_metric\" : \"rmse\"            # 評価指標(rmseやaucなど) “rmse”は平均二乗誤差の平方根\n",
    "}"
   ]
  },
  {
   "cell_type": "code",
   "execution_count": 184,
   "id": "762efb8c-67eb-4e03-b2dd-0c5d81ae0acb",
   "metadata": {},
   "outputs": [
    {
     "name": "stdout",
     "output_type": "stream",
     "text": [
      "[0]\ttrain-rmse:16.92838\tvalid-rmse:17.76331\n",
      "[1]\ttrain-rmse:12.24897\tvalid-rmse:13.00863\n",
      "[2]\ttrain-rmse:8.90675\tvalid-rmse:9.60274\n",
      "[3]\ttrain-rmse:6.58346\tvalid-rmse:7.17495\n",
      "[4]\ttrain-rmse:4.92304\tvalid-rmse:5.59126\n",
      "[5]\ttrain-rmse:3.74327\tvalid-rmse:4.66431\n",
      "[6]\ttrain-rmse:2.91932\tvalid-rmse:4.05327\n",
      "[7]\ttrain-rmse:2.36707\tvalid-rmse:3.68168\n",
      "[8]\ttrain-rmse:1.94761\tvalid-rmse:3.48065\n",
      "[9]\ttrain-rmse:1.66779\tvalid-rmse:3.37206\n",
      "[10]\ttrain-rmse:1.47670\tvalid-rmse:3.36365\n",
      "[11]\ttrain-rmse:1.33915\tvalid-rmse:3.31279\n",
      "[12]\ttrain-rmse:1.23641\tvalid-rmse:3.26601\n",
      "[13]\ttrain-rmse:1.14093\tvalid-rmse:3.25281\n",
      "[14]\ttrain-rmse:1.00827\tvalid-rmse:3.23062\n",
      "[15]\ttrain-rmse:0.95879\tvalid-rmse:3.21524\n",
      "[16]\ttrain-rmse:0.92139\tvalid-rmse:3.22536\n",
      "[17]\ttrain-rmse:0.88723\tvalid-rmse:3.22268\n",
      "[18]\ttrain-rmse:0.83481\tvalid-rmse:3.21473\n",
      "[19]\ttrain-rmse:0.79302\tvalid-rmse:3.19422\n",
      "[20]\ttrain-rmse:0.73273\tvalid-rmse:3.18955\n",
      "[21]\ttrain-rmse:0.69720\tvalid-rmse:3.17054\n",
      "[22]\ttrain-rmse:0.65276\tvalid-rmse:3.17347\n",
      "[23]\ttrain-rmse:0.63936\tvalid-rmse:3.16863\n",
      "[24]\ttrain-rmse:0.57781\tvalid-rmse:3.16229\n",
      "[25]\ttrain-rmse:0.56074\tvalid-rmse:3.15851\n",
      "[26]\ttrain-rmse:0.53289\tvalid-rmse:3.16116\n",
      "[27]\ttrain-rmse:0.51718\tvalid-rmse:3.15892\n",
      "[28]\ttrain-rmse:0.49511\tvalid-rmse:3.14683\n",
      "[29]\ttrain-rmse:0.48347\tvalid-rmse:3.14844\n",
      "[30]\ttrain-rmse:0.45794\tvalid-rmse:3.15194\n",
      "[31]\ttrain-rmse:0.43289\tvalid-rmse:3.14772\n",
      "[32]\ttrain-rmse:0.41465\tvalid-rmse:3.14431\n",
      "[33]\ttrain-rmse:0.37692\tvalid-rmse:3.15035\n",
      "[34]\ttrain-rmse:0.36111\tvalid-rmse:3.15451\n",
      "[35]\ttrain-rmse:0.34095\tvalid-rmse:3.16277\n",
      "[36]\ttrain-rmse:0.32091\tvalid-rmse:3.16339\n",
      "[37]\ttrain-rmse:0.31390\tvalid-rmse:3.16050\n",
      "[38]\ttrain-rmse:0.30568\tvalid-rmse:3.15870\n",
      "[39]\ttrain-rmse:0.28741\tvalid-rmse:3.16119\n",
      "[40]\ttrain-rmse:0.28354\tvalid-rmse:3.16000\n",
      "[41]\ttrain-rmse:0.27213\tvalid-rmse:3.15731\n",
      "[42]\ttrain-rmse:0.26156\tvalid-rmse:3.15414\n",
      "[43]\ttrain-rmse:0.25145\tvalid-rmse:3.15191\n",
      "[44]\ttrain-rmse:0.24470\tvalid-rmse:3.15182\n",
      "[45]\ttrain-rmse:0.22931\tvalid-rmse:3.15174\n",
      "[46]\ttrain-rmse:0.22547\tvalid-rmse:3.14961\n",
      "[47]\ttrain-rmse:0.22148\tvalid-rmse:3.14861\n",
      "[48]\ttrain-rmse:0.21633\tvalid-rmse:3.15102\n",
      "[49]\ttrain-rmse:0.20407\tvalid-rmse:3.15247\n",
      "[50]\ttrain-rmse:0.19357\tvalid-rmse:3.15063\n",
      "[51]\ttrain-rmse:0.18842\tvalid-rmse:3.15110\n",
      "[52]\ttrain-rmse:0.18477\tvalid-rmse:3.15098\n",
      "[53]\ttrain-rmse:0.17635\tvalid-rmse:3.15097\n",
      "[54]\ttrain-rmse:0.16761\tvalid-rmse:3.15374\n",
      "[55]\ttrain-rmse:0.16487\tvalid-rmse:3.15264\n",
      "[56]\ttrain-rmse:0.15878\tvalid-rmse:3.15350\n",
      "[57]\ttrain-rmse:0.15132\tvalid-rmse:3.15394\n",
      "[58]\ttrain-rmse:0.14483\tvalid-rmse:3.15161\n",
      "[59]\ttrain-rmse:0.13961\tvalid-rmse:3.15177\n",
      "[60]\ttrain-rmse:0.13851\tvalid-rmse:3.15177\n",
      "[61]\ttrain-rmse:0.12606\tvalid-rmse:3.15157\n",
      "[62]\ttrain-rmse:0.12445\tvalid-rmse:3.15211\n",
      "[63]\ttrain-rmse:0.12240\tvalid-rmse:3.15160\n",
      "[64]\ttrain-rmse:0.11532\tvalid-rmse:3.15150\n",
      "[65]\ttrain-rmse:0.11169\tvalid-rmse:3.15129\n",
      "[66]\ttrain-rmse:0.11016\tvalid-rmse:3.15156\n",
      "[67]\ttrain-rmse:0.10497\tvalid-rmse:3.15352\n",
      "[68]\ttrain-rmse:0.10243\tvalid-rmse:3.15266\n",
      "[69]\ttrain-rmse:0.09927\tvalid-rmse:3.15343\n",
      "[70]\ttrain-rmse:0.09412\tvalid-rmse:3.15227\n",
      "[71]\ttrain-rmse:0.09230\tvalid-rmse:3.15096\n",
      "[72]\ttrain-rmse:0.08769\tvalid-rmse:3.15048\n",
      "[73]\ttrain-rmse:0.08496\tvalid-rmse:3.15043\n",
      "[74]\ttrain-rmse:0.08169\tvalid-rmse:3.15055\n",
      "[75]\ttrain-rmse:0.07818\tvalid-rmse:3.15327\n",
      "[76]\ttrain-rmse:0.07730\tvalid-rmse:3.15303\n",
      "[77]\ttrain-rmse:0.07500\tvalid-rmse:3.15378\n",
      "[78]\ttrain-rmse:0.07297\tvalid-rmse:3.15274\n",
      "[79]\ttrain-rmse:0.07075\tvalid-rmse:3.15258\n",
      "[80]\ttrain-rmse:0.07010\tvalid-rmse:3.15280\n",
      "[81]\ttrain-rmse:0.06711\tvalid-rmse:3.15230\n",
      "[82]\ttrain-rmse:0.06289\tvalid-rmse:3.15239\n",
      "[83]\ttrain-rmse:0.06080\tvalid-rmse:3.15142\n",
      "[84]\ttrain-rmse:0.05718\tvalid-rmse:3.15098\n",
      "[85]\ttrain-rmse:0.05437\tvalid-rmse:3.15109\n",
      "[86]\ttrain-rmse:0.05216\tvalid-rmse:3.15045\n",
      "[87]\ttrain-rmse:0.04947\tvalid-rmse:3.15178\n",
      "[88]\ttrain-rmse:0.04824\tvalid-rmse:3.15134\n",
      "[89]\ttrain-rmse:0.04412\tvalid-rmse:3.15266\n",
      "[90]\ttrain-rmse:0.04016\tvalid-rmse:3.15284\n",
      "[91]\ttrain-rmse:0.03853\tvalid-rmse:3.15287\n",
      "[92]\ttrain-rmse:0.03734\tvalid-rmse:3.15325\n",
      "[93]\ttrain-rmse:0.03496\tvalid-rmse:3.15353\n",
      "[94]\ttrain-rmse:0.03441\tvalid-rmse:3.15426\n",
      "[95]\ttrain-rmse:0.03398\tvalid-rmse:3.15393\n",
      "[96]\ttrain-rmse:0.03121\tvalid-rmse:3.15340\n",
      "[97]\ttrain-rmse:0.03047\tvalid-rmse:3.15320\n",
      "[98]\ttrain-rmse:0.02878\tvalid-rmse:3.15312\n",
      "[99]\ttrain-rmse:0.02709\tvalid-rmse:3.15250\n"
     ]
    }
   ],
   "source": [
    "model = xgb.train(\n",
    "    params = params,\n",
    "    dtrain = dtrain,\n",
    "    evals = [(dtrain, \"train\"), (dvalid, \"valid\")], # ”eval_metric”で評価するデータ\n",
    "    num_boost_round = 100 # モデルを作り直す回数\n",
    ")"
   ]
  },
  {
   "cell_type": "code",
   "execution_count": 185,
   "id": "b621e41c-de60-4fb8-b557-d1e5b6ec69fc",
   "metadata": {},
   "outputs": [
    {
     "name": "stdout",
     "output_type": "stream",
     "text": [
      "[34.602875  21.462439  18.72736   21.220026  19.141644  16.206978\n",
      " 16.613173  13.357844  13.716306  23.852552  17.234896  35.068787\n",
      " 30.229706  22.441782  24.08176   24.770409  22.139935  22.783014\n",
      " 20.910812  25.399553  25.399197  39.544056  32.470833  24.355314\n",
      " 20.527443  20.87544   18.42293   21.403395  19.114504  23.833168\n",
      " 23.590574  20.698988  19.816132  16.19684   17.369795  15.556119\n",
      " 13.136945  13.68541   41.451305  24.004566  41.998074  33.570583\n",
      " 46.451927  36.424664  23.103352  19.977278  22.784954  24.085375\n",
      " 18.597336  49.176884  47.32761   33.78188   33.404446  26.84733\n",
      " 23.048439  35.129192  40.98539   39.50284   21.397228  35.109264\n",
      " 31.629221  44.27803   32.656635  27.737375  32.5818    22.084818\n",
      " 19.82467   19.407963  22.293482  23.70385   19.726803  19.93676\n",
      " 20.201893  19.922138  27.787174  22.428144  18.542398  21.763653\n",
      " 20.16682   39.90108   14.998258  11.805703  12.407137  14.254348\n",
      " 17.05245   15.2328825 16.37517    7.836231  11.182522  15.642363\n",
      " 17.171896  18.357367  15.137265  20.300009  19.715689  20.073273\n",
      " 15.371167  20.322588  13.122751  14.605328  21.83937   21.245506 ]\n"
     ]
    }
   ],
   "source": [
    "# predictで予測結果を出力\n",
    "pred = model.predict(xgb.DMatrix(X_valid))\n",
    "print(pred)"
   ]
  },
  {
   "cell_type": "code",
   "execution_count": 187,
   "id": "c65a4468-dc16-4a31-908e-2d37e463fc58",
   "metadata": {},
   "outputs": [
    {
     "data": {
      "image/png": "[encoded data removed]",
      "text/plain": [
       "<Figure size 432x288 with 1 Axes>"
      ]
     },
     "metadata": {
      "needs_background": "light"
     },
     "output_type": "display_data"
    }
   ],
   "source": [
    "import matplotlib.pyplot as plt\n",
    "import numpy as np\n",
    "plt.scatter(y_valid, pred, alpha = 0.5)\n",
    "plt.plot(np.linspace(0, 60, 100), np.linspace(0, 60, 100), \"red\")\n",
    "plt.show()\n",
    "\n",
    "# 横軸を正解データ、縦軸を予測値"
   ]
  },
  {
   "cell_type": "code",
   "execution_count": 188,
   "id": "c54d59c2-4706-4fe7-af68-36f6efcd1362",
   "metadata": {},
   "outputs": [
    {
     "name": "stdout",
     "output_type": "stream",
     "text": [
      "3.152503767889867\n"
     ]
    }
   ],
   "source": [
    "from sklearn.metrics import mean_squared_error\n",
    "mse = mean_squared_error(y_valid, pred)\n",
    "rmse = np.sqrt(mse)\n",
    "print(rmse)"
   ]
  },
  {
   "cell_type": "code",
   "execution_count": 191,
   "id": "859662bd-ee33-4a9c-94f7-b7a6436604c1",
   "metadata": {},
   "outputs": [
    {
     "name": "stdout",
     "output_type": "stream",
     "text": [
      "[0]\ttrain-rmse:16.92838\tvalid-rmse:17.76331\n",
      "Multiple eval metrics have been passed: 'valid-rmse' will be used for early stopping.\n",
      "\n",
      "Will train until valid-rmse hasn't improved in 10 rounds.\n",
      "[1]\ttrain-rmse:12.24897\tvalid-rmse:13.00863\n",
      "[2]\ttrain-rmse:8.90675\tvalid-rmse:9.60274\n",
      "[3]\ttrain-rmse:6.58346\tvalid-rmse:7.17495\n",
      "[4]\ttrain-rmse:4.92304\tvalid-rmse:5.59126\n",
      "[5]\ttrain-rmse:3.74327\tvalid-rmse:4.66431\n",
      "[6]\ttrain-rmse:2.91932\tvalid-rmse:4.05327\n",
      "[7]\ttrain-rmse:2.36707\tvalid-rmse:3.68168\n",
      "[8]\ttrain-rmse:1.94761\tvalid-rmse:3.48065\n",
      "[9]\ttrain-rmse:1.66779\tvalid-rmse:3.37206\n",
      "[10]\ttrain-rmse:1.47670\tvalid-rmse:3.36365\n",
      "[11]\ttrain-rmse:1.33915\tvalid-rmse:3.31279\n",
      "[12]\ttrain-rmse:1.23641\tvalid-rmse:3.26601\n",
      "[13]\ttrain-rmse:1.14093\tvalid-rmse:3.25281\n",
      "[14]\ttrain-rmse:1.00827\tvalid-rmse:3.23062\n",
      "[15]\ttrain-rmse:0.95879\tvalid-rmse:3.21524\n",
      "[16]\ttrain-rmse:0.92139\tvalid-rmse:3.22536\n",
      "[17]\ttrain-rmse:0.88723\tvalid-rmse:3.22268\n",
      "[18]\ttrain-rmse:0.83481\tvalid-rmse:3.21473\n",
      "[19]\ttrain-rmse:0.79302\tvalid-rmse:3.19422\n",
      "[20]\ttrain-rmse:0.73273\tvalid-rmse:3.18955\n",
      "[21]\ttrain-rmse:0.69720\tvalid-rmse:3.17054\n",
      "[22]\ttrain-rmse:0.65276\tvalid-rmse:3.17347\n",
      "[23]\ttrain-rmse:0.63936\tvalid-rmse:3.16863\n",
      "[24]\ttrain-rmse:0.57781\tvalid-rmse:3.16229\n",
      "[25]\ttrain-rmse:0.56074\tvalid-rmse:3.15851\n",
      "[26]\ttrain-rmse:0.53289\tvalid-rmse:3.16116\n",
      "[27]\ttrain-rmse:0.51718\tvalid-rmse:3.15892\n",
      "[28]\ttrain-rmse:0.49511\tvalid-rmse:3.14683\n",
      "[29]\ttrain-rmse:0.48347\tvalid-rmse:3.14844\n",
      "[30]\ttrain-rmse:0.45794\tvalid-rmse:3.15194\n",
      "[31]\ttrain-rmse:0.43289\tvalid-rmse:3.14772\n",
      "[32]\ttrain-rmse:0.41465\tvalid-rmse:3.14431\n",
      "[33]\ttrain-rmse:0.37692\tvalid-rmse:3.15035\n",
      "[34]\ttrain-rmse:0.36111\tvalid-rmse:3.15451\n",
      "[35]\ttrain-rmse:0.34095\tvalid-rmse:3.16277\n",
      "[36]\ttrain-rmse:0.32091\tvalid-rmse:3.16339\n",
      "[37]\ttrain-rmse:0.31390\tvalid-rmse:3.16050\n",
      "[38]\ttrain-rmse:0.30568\tvalid-rmse:3.15870\n",
      "[39]\ttrain-rmse:0.28741\tvalid-rmse:3.16119\n",
      "[40]\ttrain-rmse:0.28354\tvalid-rmse:3.16000\n",
      "[41]\ttrain-rmse:0.27213\tvalid-rmse:3.15731\n",
      "[42]\ttrain-rmse:0.26156\tvalid-rmse:3.15414\n",
      "Stopping. Best iteration:\n",
      "[32]\ttrain-rmse:0.41465\tvalid-rmse:3.14431\n",
      "\n"
     ]
    }
   ],
   "source": [
    "# 学習状況可視化\n",
    "results_dict = {} # ここに学習状況が記録される\n",
    "model = xgb.train(\n",
    "    params = params,\n",
    "    dtrain = dtrain,\n",
    "    evals = [(dtrain, \"train\"), (dvalid, \"valid\")],\n",
    "    num_boost_round = 100,\n",
    "    early_stopping_rounds = 10,\n",
    "    evals_result = results_dict\n",
    ")"
   ]
  },
  {
   "cell_type": "code",
   "execution_count": 192,
   "id": "1e9b18b4-7d37-4383-b51f-82502916d92d",
   "metadata": {},
   "outputs": [
    {
     "data": {
      "image/png": "[encoded data removed]",
      "text/plain": [
       "<Figure size 432x288 with 1 Axes>"
      ]
     },
     "metadata": {
      "needs_background": "light"
     },
     "output_type": "display_data"
    }
   ],
   "source": [
    "plt.plot(results_dict[\"train\"][\"rmse\"], color = \"red\", label = \"train\")\n",
    "plt.plot(results_dict[\"valid\"][\"rmse\"], color = \"blue\", label = \"valid\")\n",
    "plt.legend()\n",
    "plt.show()"
   ]
  },
  {
   "cell_type": "code",
   "execution_count": 196,
   "id": "3c8e8e78-666a-424e-9ef1-b25960b5674b",
   "metadata": {},
   "outputs": [
    {
     "data": {
      "image/png": "[encoded data removed]",
      "text/plain": [
       "<Figure size 432x288 with 1 Axes>"
      ]
     },
     "metadata": {
      "needs_background": "light"
     },
     "output_type": "display_data"
    }
   ],
   "source": [
    "# 特徴量重要度\n",
    "xgb.plot_importance(model)\n",
    "plt.show()"
   ]
  },
  {
   "cell_type": "code",
   "execution_count": 197,
   "id": "feb6b9fd-58e8-4461-8fbb-76fa0e43c556",
   "metadata": {},
   "outputs": [
    {
     "data": {
      "image/png": "[encoded data removed]",
      "text/plain": [
       "<Figure size 432x288 with 1 Axes>"
      ]
     },
     "metadata": {
      "needs_background": "light"
     },
     "output_type": "display_data"
    }
   ],
   "source": [
    "xgb.plot_importance(model, importance_type = \"gain\")\n",
    "plt.show()"
   ]
  },
  {
   "cell_type": "markdown",
   "id": "a005d701-fc4b-4b87-8361-1a063c3e9a5a",
   "metadata": {},
   "source": [
    "## load_breast_cancer\n",
    "二値分類モデル（1　か　0）"
   ]
  },
  {
   "cell_type": "code",
   "execution_count": 198,
   "id": "e575e46c-44f1-4388-8dc6-7d9ed569aa81",
   "metadata": {},
   "outputs": [
    {
     "name": "stdout",
     "output_type": "stream",
     "text": [
      "(569, 31)\n"
     ]
    },
    {
     "data": {
      "text/html": [
       "<div>\n",
       "<style scoped>\n",
       "    .dataframe tbody tr th:only-of-type {\n",
       "        vertical-align: middle;\n",
       "    }\n",
       "\n",
       "    .dataframe tbody tr th {\n",
       "        vertical-align: top;\n",
       "    }\n",
       "\n",
       "    .dataframe thead th {\n",
       "        text-align: right;\n",
       "    }\n",
       "</style>\n",
       "<table border=\"1\" class=\"dataframe\">\n",
       "  <thead>\n",
       "    <tr style=\"text-align: right;\">\n",
       "      <th></th>\n",
       "      <th>mean radius</th>\n",
       "      <th>mean texture</th>\n",
       "      <th>mean perimeter</th>\n",
       "      <th>mean area</th>\n",
       "      <th>mean smoothness</th>\n",
       "      <th>mean compactness</th>\n",
       "      <th>mean concavity</th>\n",
       "      <th>mean concave points</th>\n",
       "      <th>mean symmetry</th>\n",
       "      <th>mean fractal dimension</th>\n",
       "      <th>...</th>\n",
       "      <th>worst texture</th>\n",
       "      <th>worst perimeter</th>\n",
       "      <th>worst area</th>\n",
       "      <th>worst smoothness</th>\n",
       "      <th>worst compactness</th>\n",
       "      <th>worst concavity</th>\n",
       "      <th>worst concave points</th>\n",
       "      <th>worst symmetry</th>\n",
       "      <th>worst fractal dimension</th>\n",
       "      <th>target</th>\n",
       "    </tr>\n",
       "  </thead>\n",
       "  <tbody>\n",
       "    <tr>\n",
       "      <th>0</th>\n",
       "      <td>17.99</td>\n",
       "      <td>10.38</td>\n",
       "      <td>122.80</td>\n",
       "      <td>1001.0</td>\n",
       "      <td>0.11840</td>\n",
       "      <td>0.27760</td>\n",
       "      <td>0.3001</td>\n",
       "      <td>0.14710</td>\n",
       "      <td>0.2419</td>\n",
       "      <td>0.07871</td>\n",
       "      <td>...</td>\n",
       "      <td>17.33</td>\n",
       "      <td>184.60</td>\n",
       "      <td>2019.0</td>\n",
       "      <td>0.1622</td>\n",
       "      <td>0.6656</td>\n",
       "      <td>0.7119</td>\n",
       "      <td>0.2654</td>\n",
       "      <td>0.4601</td>\n",
       "      <td>0.11890</td>\n",
       "      <td>0</td>\n",
       "    </tr>\n",
       "    <tr>\n",
       "      <th>1</th>\n",
       "      <td>20.57</td>\n",
       "      <td>17.77</td>\n",
       "      <td>132.90</td>\n",
       "      <td>1326.0</td>\n",
       "      <td>0.08474</td>\n",
       "      <td>0.07864</td>\n",
       "      <td>0.0869</td>\n",
       "      <td>0.07017</td>\n",
       "      <td>0.1812</td>\n",
       "      <td>0.05667</td>\n",
       "      <td>...</td>\n",
       "      <td>23.41</td>\n",
       "      <td>158.80</td>\n",
       "      <td>1956.0</td>\n",
       "      <td>0.1238</td>\n",
       "      <td>0.1866</td>\n",
       "      <td>0.2416</td>\n",
       "      <td>0.1860</td>\n",
       "      <td>0.2750</td>\n",
       "      <td>0.08902</td>\n",
       "      <td>0</td>\n",
       "    </tr>\n",
       "    <tr>\n",
       "      <th>2</th>\n",
       "      <td>19.69</td>\n",
       "      <td>21.25</td>\n",
       "      <td>130.00</td>\n",
       "      <td>1203.0</td>\n",
       "      <td>0.10960</td>\n",
       "      <td>0.15990</td>\n",
       "      <td>0.1974</td>\n",
       "      <td>0.12790</td>\n",
       "      <td>0.2069</td>\n",
       "      <td>0.05999</td>\n",
       "      <td>...</td>\n",
       "      <td>25.53</td>\n",
       "      <td>152.50</td>\n",
       "      <td>1709.0</td>\n",
       "      <td>0.1444</td>\n",
       "      <td>0.4245</td>\n",
       "      <td>0.4504</td>\n",
       "      <td>0.2430</td>\n",
       "      <td>0.3613</td>\n",
       "      <td>0.08758</td>\n",
       "      <td>0</td>\n",
       "    </tr>\n",
       "    <tr>\n",
       "      <th>3</th>\n",
       "      <td>11.42</td>\n",
       "      <td>20.38</td>\n",
       "      <td>77.58</td>\n",
       "      <td>386.1</td>\n",
       "      <td>0.14250</td>\n",
       "      <td>0.28390</td>\n",
       "      <td>0.2414</td>\n",
       "      <td>0.10520</td>\n",
       "      <td>0.2597</td>\n",
       "      <td>0.09744</td>\n",
       "      <td>...</td>\n",
       "      <td>26.50</td>\n",
       "      <td>98.87</td>\n",
       "      <td>567.7</td>\n",
       "      <td>0.2098</td>\n",
       "      <td>0.8663</td>\n",
       "      <td>0.6869</td>\n",
       "      <td>0.2575</td>\n",
       "      <td>0.6638</td>\n",
       "      <td>0.17300</td>\n",
       "      <td>0</td>\n",
       "    </tr>\n",
       "    <tr>\n",
       "      <th>4</th>\n",
       "      <td>20.29</td>\n",
       "      <td>14.34</td>\n",
       "      <td>135.10</td>\n",
       "      <td>1297.0</td>\n",
       "      <td>0.10030</td>\n",
       "      <td>0.13280</td>\n",
       "      <td>0.1980</td>\n",
       "      <td>0.10430</td>\n",
       "      <td>0.1809</td>\n",
       "      <td>0.05883</td>\n",
       "      <td>...</td>\n",
       "      <td>16.67</td>\n",
       "      <td>152.20</td>\n",
       "      <td>1575.0</td>\n",
       "      <td>0.1374</td>\n",
       "      <td>0.2050</td>\n",
       "      <td>0.4000</td>\n",
       "      <td>0.1625</td>\n",
       "      <td>0.2364</td>\n",
       "      <td>0.07678</td>\n",
       "      <td>0</td>\n",
       "    </tr>\n",
       "  </tbody>\n",
       "</table>\n",
       "<p>5 rows × 31 columns</p>\n",
       "</div>"
      ],
      "text/plain": [
       "   mean radius  mean texture  mean perimeter  mean area  mean smoothness  \\\n",
       "0        17.99         10.38          122.80     1001.0          0.11840   \n",
       "1        20.57         17.77          132.90     1326.0          0.08474   \n",
       "2        19.69         21.25          130.00     1203.0          0.10960   \n",
       "3        11.42         20.38           77.58      386.1          0.14250   \n",
       "4        20.29         14.34          135.10     1297.0          0.10030   \n",
       "\n",
       "   mean compactness  mean concavity  mean concave points  mean symmetry  \\\n",
       "0           0.27760          0.3001              0.14710         0.2419   \n",
       "1           0.07864          0.0869              0.07017         0.1812   \n",
       "2           0.15990          0.1974              0.12790         0.2069   \n",
       "3           0.28390          0.2414              0.10520         0.2597   \n",
       "4           0.13280          0.1980              0.10430         0.1809   \n",
       "\n",
       "   mean fractal dimension  ...  worst texture  worst perimeter  worst area  \\\n",
       "0                 0.07871  ...          17.33           184.60      2019.0   \n",
       "1                 0.05667  ...          23.41           158.80      1956.0   \n",
       "2                 0.05999  ...          25.53           152.50      1709.0   \n",
       "3                 0.09744  ...          26.50            98.87       567.7   \n",
       "4                 0.05883  ...          16.67           152.20      1575.0   \n",
       "\n",
       "   worst smoothness  worst compactness  worst concavity  worst concave points  \\\n",
       "0            0.1622             0.6656           0.7119                0.2654   \n",
       "1            0.1238             0.1866           0.2416                0.1860   \n",
       "2            0.1444             0.4245           0.4504                0.2430   \n",
       "3            0.2098             0.8663           0.6869                0.2575   \n",
       "4            0.1374             0.2050           0.4000                0.1625   \n",
       "\n",
       "   worst symmetry  worst fractal dimension  target  \n",
       "0          0.4601                  0.11890       0  \n",
       "1          0.2750                  0.08902       0  \n",
       "2          0.3613                  0.08758       0  \n",
       "3          0.6638                  0.17300       0  \n",
       "4          0.2364                  0.07678       0  \n",
       "\n",
       "[5 rows x 31 columns]"
      ]
     },
     "execution_count": 198,
     "metadata": {},
     "output_type": "execute_result"
    }
   ],
   "source": [
    "import pandas as pd\n",
    "from sklearn.datasets import load_breast_cancer\n",
    "data = load_breast_cancer()\n",
    "df = pd.DataFrame(data[\"data\"], columns = data[\"feature_names\"])\n",
    "df[\"target\"] = data[\"target\"]\n",
    "print(df.shape)\n",
    "df.head()"
   ]
  },
  {
   "cell_type": "code",
   "execution_count": 201,
   "id": "dd5ce7d6-4086-46e3-84c5-e9fbf356f9c6",
   "metadata": {},
   "outputs": [
    {
     "name": "stdout",
     "output_type": "stream",
     "text": [
      "2    114\n",
      "3    114\n",
      "1    114\n",
      "0    114\n",
      "4    113\n",
      "Name: fold, dtype: int64\n"
     ]
    }
   ],
   "source": [
    "from sklearn.model_selection import StratifiedKFold\n",
    "skf = StratifiedKFold(n_splits = 5, shuffle = True) # 予測したいラベルの割合を保ちながら分割して\n",
    "df[\"fold\"] = -1\n",
    "for fold, (train_idx, valid_idx) in enumerate(skf.split(X = df, y = df[\"target\"])):\n",
    "    df.loc[valid_idx, \"fold\"] = fold\n",
    "print(df[\"fold\"].value_counts())"
   ]
  },
  {
   "cell_type": "code",
   "execution_count": 200,
   "id": "7c394eac-5a91-40e8-957d-6746f50fc91a",
   "metadata": {},
   "outputs": [
    {
     "name": "stdout",
     "output_type": "stream",
     "text": [
      "(455, 32) (114, 32)\n",
      "['mean radius', 'mean texture', 'mean perimeter', 'mean area', 'mean smoothness', 'mean compactness', 'mean concavity', 'mean concave points', 'mean symmetry', 'mean fractal dimension', 'radius error', 'texture error', 'perimeter error', 'area error', 'smoothness error', 'compactness error', 'concavity error', 'concave points error', 'symmetry error', 'fractal dimension error', 'worst radius', 'worst texture', 'worst perimeter', 'worst area', 'worst smoothness', 'worst compactness', 'worst concavity', 'worst concave points', 'worst symmetry', 'worst fractal dimension']\n"
     ]
    }
   ],
   "source": [
    "fold = 0\n",
    "train = df.loc[df[\"fold\"] != fold].copy()\n",
    "valid = df.loc[df[\"fold\"] == fold].copy()\n",
    "print(train.shape, valid.shape)\n",
    "\n",
    "feat_cols = train.drop(columns = [\"fold\", \"target\"]).columns.tolist()\n",
    "print(feat_cols)\n",
    "\n",
    "X_train = train[feat_cols]\n",
    "X_valid = valid[feat_cols]\n",
    "y_train = train[\"target\"]\n",
    "y_valid = valid[\"target\"]"
   ]
  },
  {
   "cell_type": "code",
   "execution_count": 203,
   "id": "b9efb380-26cd-435d-bbd7-55203b0e371f",
   "metadata": {},
   "outputs": [
    {
     "name": "stdout",
     "output_type": "stream",
     "text": [
      "[0]\ttrain-logloss:0.46579\tvalid-logloss:0.47726\n",
      "Multiple eval metrics have been passed: 'valid-logloss' will be used for early stopping.\n",
      "\n",
      "Will train until valid-logloss hasn't improved in 10 rounds.\n",
      "[1]\ttrain-logloss:0.33483\tvalid-logloss:0.34509\n",
      "[2]\ttrain-logloss:0.24781\tvalid-logloss:0.26144\n",
      "[3]\ttrain-logloss:0.18933\tvalid-logloss:0.20467\n",
      "[4]\ttrain-logloss:0.14738\tvalid-logloss:0.16706\n",
      "[5]\ttrain-logloss:0.11709\tvalid-logloss:0.14136\n",
      "[6]\ttrain-logloss:0.09477\tvalid-logloss:0.12139\n",
      "[7]\ttrain-logloss:0.07865\tvalid-logloss:0.10253\n",
      "[8]\ttrain-logloss:0.06649\tvalid-logloss:0.09008\n",
      "[9]\ttrain-logloss:0.05586\tvalid-logloss:0.08117\n",
      "[10]\ttrain-logloss:0.04761\tvalid-logloss:0.07527\n",
      "[11]\ttrain-logloss:0.04103\tvalid-logloss:0.07134\n",
      "[12]\ttrain-logloss:0.03584\tvalid-logloss:0.06342\n",
      "[13]\ttrain-logloss:0.03236\tvalid-logloss:0.06073\n",
      "[14]\ttrain-logloss:0.02852\tvalid-logloss:0.05514\n",
      "[15]\ttrain-logloss:0.02543\tvalid-logloss:0.05384\n",
      "[16]\ttrain-logloss:0.02321\tvalid-logloss:0.05001\n",
      "[17]\ttrain-logloss:0.02136\tvalid-logloss:0.04758\n",
      "[18]\ttrain-logloss:0.01961\tvalid-logloss:0.04766\n",
      "[19]\ttrain-logloss:0.01809\tvalid-logloss:0.04670\n",
      "[20]\ttrain-logloss:0.01688\tvalid-logloss:0.04660\n",
      "[21]\ttrain-logloss:0.01599\tvalid-logloss:0.04565\n",
      "[22]\ttrain-logloss:0.01522\tvalid-logloss:0.04621\n",
      "[23]\ttrain-logloss:0.01460\tvalid-logloss:0.04611\n",
      "[24]\ttrain-logloss:0.01367\tvalid-logloss:0.04584\n",
      "[25]\ttrain-logloss:0.01315\tvalid-logloss:0.04407\n",
      "[26]\ttrain-logloss:0.01246\tvalid-logloss:0.04490\n",
      "[27]\ttrain-logloss:0.01210\tvalid-logloss:0.04410\n",
      "[28]\ttrain-logloss:0.01162\tvalid-logloss:0.04398\n",
      "[29]\ttrain-logloss:0.01131\tvalid-logloss:0.04329\n",
      "[30]\ttrain-logloss:0.01099\tvalid-logloss:0.04366\n",
      "[31]\ttrain-logloss:0.01069\tvalid-logloss:0.04449\n",
      "[32]\ttrain-logloss:0.01044\tvalid-logloss:0.04388\n",
      "[33]\ttrain-logloss:0.01022\tvalid-logloss:0.04416\n",
      "[34]\ttrain-logloss:0.00982\tvalid-logloss:0.04432\n",
      "[35]\ttrain-logloss:0.00958\tvalid-logloss:0.04464\n",
      "[36]\ttrain-logloss:0.00936\tvalid-logloss:0.04509\n",
      "[37]\ttrain-logloss:0.00920\tvalid-logloss:0.04493\n",
      "[38]\ttrain-logloss:0.00901\tvalid-logloss:0.04496\n",
      "[39]\ttrain-logloss:0.00884\tvalid-logloss:0.04542\n",
      "Stopping. Best iteration:\n",
      "[29]\ttrain-logloss:0.01131\tvalid-logloss:0.04329\n",
      "\n"
     ]
    }
   ],
   "source": [
    "import xgboost as xgb\n",
    "\n",
    "dtrain = xgb.DMatrix(X_train, y_train)\n",
    "dvalid = xgb.DMatrix(X_valid, y_valid)\n",
    "\n",
    "params = {\n",
    "    \"objective\" : \"binary:logistic\", # “binary:logistic” 二値分類の場合\n",
    "    \"eval_metric\" : \"logloss\" # logloss 予測結果が外れたとき、その予測確立が大きいほどペナルティを与えます。\n",
    "}\n",
    "\n",
    "results_dict = {}\n",
    "model = xgb.train(\n",
    "    params = params,\n",
    "    dtrain = dtrain,\n",
    "    evals = [(dtrain, \"train\"), (dvalid, \"valid\")],\n",
    "    num_boost_round = 100,\n",
    "    early_stopping_rounds = 10,\n",
    "    evals_result = results_dict\n",
    ")"
   ]
  },
  {
   "cell_type": "code",
   "execution_count": 204,
   "id": "8e968208-ca02-48ad-9063-6734ef0fd131",
   "metadata": {},
   "outputs": [
    {
     "data": {
      "image/png": "[encoded data removed]",
      "text/plain": [
       "<Figure size 432x288 with 1 Axes>"
      ]
     },
     "metadata": {
      "needs_background": "light"
     },
     "output_type": "display_data"
    }
   ],
   "source": [
    "import matplotlib.pyplot as plt\n",
    "plt.plot(results_dict[\"train\"][\"logloss\"], color = \"red\", label = \"train\")\n",
    "plt.plot(results_dict[\"valid\"][\"logloss\"], color = \"blue\", label = \"valid\")\n",
    "plt.legend()\n",
    "plt.show()"
   ]
  },
  {
   "cell_type": "code",
   "execution_count": 205,
   "id": "9770533d-e5b6-4f25-8fd9-7d615a7fb02c",
   "metadata": {},
   "outputs": [
    {
     "name": "stdout",
     "output_type": "stream",
     "text": [
      "[3.6165959e-03 8.8438299e-04 1.2680969e-03 6.4587735e-02 5.2499510e-03\n",
      " 9.9852139e-01 7.7069034e-03 2.2920740e-03 3.6545503e-03 1.2966181e-02\n",
      " 9.9730128e-01 1.1560434e-03 1.1275444e-03 1.8593248e-03 1.9822498e-03\n",
      " 9.9925500e-01 9.9902368e-01 9.9077320e-01 9.6547045e-02 9.9903357e-01\n",
      " 9.9871266e-01 6.3627118e-01 9.7582561e-01 8.5153419e-01 9.9746561e-01\n",
      " 9.9053627e-01 9.9909031e-01 9.9112320e-01 9.9851865e-01 8.7224379e-02\n",
      " 9.9875426e-01 9.9904114e-01 9.9490190e-01 9.9918967e-01 9.7175911e-02\n",
      " 9.9833018e-01 8.4850544e-01 2.4550685e-01 9.9500066e-01 1.1275444e-03\n",
      " 3.2554406e-03 9.9764818e-01 1.3338348e-03 9.8366815e-01 1.3664106e-03\n",
      " 9.9811578e-01 9.7224528e-01 1.2127600e-03 1.0720406e-03 7.9777390e-03\n",
      " 9.9949551e-01 1.1592386e-03 7.2120328e-04 9.9795485e-01 9.9721718e-01\n",
      " 9.9954575e-01 9.8049200e-01 9.9622041e-01 9.9963689e-01 9.9841595e-01\n",
      " 9.9887937e-01 9.9809366e-01 6.5982743e-04 9.9692613e-01 9.9883181e-01\n",
      " 8.4628345e-04 8.0907944e-04 6.4668816e-04 9.9861813e-01 9.9939239e-01\n",
      " 1.8820256e-03 9.9950802e-01 9.9904007e-01 7.6228846e-04 9.7114162e-04\n",
      " 9.8368120e-01 9.9399155e-01 9.9873084e-01 9.9966645e-01 1.1218906e-03\n",
      " 1.4264055e-01 9.9897528e-01 9.9897540e-01 9.9917752e-01 9.9940097e-01\n",
      " 9.9265444e-01 9.3804741e-01 9.9863881e-01 9.9953043e-01 9.0229319e-04\n",
      " 9.9851865e-01 9.9873084e-01 1.2256654e-03 9.9933201e-01 6.5352052e-01\n",
      " 1.5592092e-02 9.8577440e-01 9.9187148e-01 1.0593811e-03 9.9913907e-01\n",
      " 1.6015788e-03 9.8017210e-01 9.9950373e-01 9.8795599e-01 2.8892586e-01\n",
      " 9.6771908e-01 9.8836601e-01 9.9919969e-01 9.9648750e-01 9.9685836e-01\n",
      " 9.9697173e-01 2.0305929e-03 1.3957794e-03 9.9660206e-01]\n"
     ]
    }
   ],
   "source": [
    "# 予測結果\n",
    "pred = model.predict(xgb.DMatrix(X_valid))\n",
    "print(pred) # ”ラベル１である確率”"
   ]
  },
  {
   "cell_type": "code",
   "execution_count": 209,
   "id": "e198149f-84eb-4a46-93b1-a721745dc9ec",
   "metadata": {},
   "outputs": [
    {
     "name": "stdout",
     "output_type": "stream",
     "text": [
      "[0 0 0 0 0 1 0 0 0 0 1 0 0 0 0 1 1 1 0 1 1 1 1 1 1 1 1 1 1 0 1 1 1 1 0 1 1\n",
      " 0 1 0 0 1 0 1 0 1 1 0 0 0 1 0 0 1 1 1 1 1 1 1 1 1 0 1 1 0 0 0 1 1 0 1 1 0\n",
      " 0 1 1 1 1 0 0 1 1 1 1 1 1 1 1 0 1 1 0 1 1 0 1 1 0 1 0 1 1 1 0 1 1 1 1 1 1\n",
      " 0 0 1]\n"
     ]
    }
   ],
   "source": [
    "import numpy as np\n",
    "label = np.where(pred > 0.5, 1, 0)\n",
    "print(label)"
   ]
  },
  {
   "cell_type": "code",
   "execution_count": 210,
   "id": "1387151c-764b-4097-a830-bf7906db2110",
   "metadata": {},
   "outputs": [
    {
     "name": "stdout",
     "output_type": "stream",
     "text": [
      "[0 0 0 0 0 1 0 0 0 0 1 0 0 0 0 1 1 1 0 1 1 1 1 1 1 1 1 1 1 0 1 1 1 1 0 1 1\n",
      " 0 1 0 0 1 0 1 0 1 1 0 0 0 1 0 0 1 1 1 1 1 1 1 1 1 0 1 1 0 0 0 1 1 0 1 1 0\n",
      " 0 1 1 1 1 0 0 1 1 1 1 1 1 1 1 0 1 1 0 1 1 0 1 1 0 1 0 1 1 1 0 1 1 1 1 1 1\n",
      " 0 0 1]\n",
      "====================================================================================================\n",
      "[0 0 0 0 0 1 0 0 0 0 1 0 0 0 0 1 1 1 0 1 1 0 1 1 1 1 1 1 1 0 1 1 1 1 0 1 1\n",
      " 0 1 0 0 1 0 1 0 1 1 0 0 0 1 0 0 1 1 1 1 1 1 1 1 1 0 1 1 0 0 0 1 1 0 1 1 0\n",
      " 0 1 1 1 1 0 1 1 1 1 1 1 1 1 1 0 1 1 0 1 1 0 1 1 0 1 0 1 1 1 0 1 1 1 1 1 1\n",
      " 0 0 1]\n"
     ]
    }
   ],
   "source": [
    "print(label)\n",
    "print(\"=\" * 100)\n",
    "print(y_valid.values)"
   ]
  },
  {
   "cell_type": "code",
   "execution_count": 211,
   "id": "61d30d94-2c15-42f1-b8a8-4b5f01076d8b",
   "metadata": {},
   "outputs": [
    {
     "data": {
      "text/plain": [
       "array([ True,  True,  True,  True,  True,  True,  True,  True,  True,\n",
       "        True,  True,  True,  True,  True,  True,  True,  True,  True,\n",
       "        True,  True,  True, False,  True,  True,  True,  True,  True,\n",
       "        True,  True,  True,  True,  True,  True,  True,  True,  True,\n",
       "        True,  True,  True,  True,  True,  True,  True,  True,  True,\n",
       "        True,  True,  True,  True,  True,  True,  True,  True,  True,\n",
       "        True,  True,  True,  True,  True,  True,  True,  True,  True,\n",
       "        True,  True,  True,  True,  True,  True,  True,  True,  True,\n",
       "        True,  True,  True,  True,  True,  True,  True,  True, False,\n",
       "        True,  True,  True,  True,  True,  True,  True,  True,  True,\n",
       "        True,  True,  True,  True,  True,  True,  True,  True,  True,\n",
       "        True,  True,  True,  True,  True,  True,  True,  True,  True,\n",
       "        True,  True,  True,  True,  True,  True])"
      ]
     },
     "execution_count": 211,
     "metadata": {},
     "output_type": "execute_result"
    }
   ],
   "source": [
    "label == y_valid.values"
   ]
  },
  {
   "cell_type": "code",
   "execution_count": 214,
   "id": "7e099ac1-895c-4840-9271-bb8216181f3c",
   "metadata": {},
   "outputs": [
    {
     "name": "stdout",
     "output_type": "stream",
     "text": [
      "正解率:  0.9824561403508771\n"
     ]
    }
   ],
   "source": [
    "from sklearn.metrics import accuracy_score\n",
    "acc = accuracy_score(y_valid, label)\n",
    "print('正解率: ', acc)"
   ]
  },
  {
   "cell_type": "code",
   "execution_count": 215,
   "id": "f9e2b1be-fd20-4d75-b60c-4b2d2b2efcef",
   "metadata": {},
   "outputs": [
    {
     "name": "stdout",
     "output_type": "stream",
     "text": [
      "AUC:  0.9990173599737963\n"
     ]
    }
   ],
   "source": [
    "from sklearn.metrics import roc_auc_score\n",
    "auc = roc_auc_score(y_valid, pred)\n",
    "print('AUC: ', auc)"
   ]
  },
  {
   "cell_type": "markdown",
   "id": "b86841fa-10c2-4b41-b4ec-23bd5e7c6118",
   "metadata": {},
   "source": [
    "## 多クラス分類モデル"
   ]
  },
  {
   "cell_type": "code",
   "execution_count": 216,
   "id": "fb2de549-f6b9-416d-8029-df7a2ce970ab",
   "metadata": {},
   "outputs": [
    {
     "name": "stdout",
     "output_type": "stream",
     "text": [
      "(150, 5)\n"
     ]
    },
    {
     "data": {
      "text/html": [
       "<div>\n",
       "<style scoped>\n",
       "    .dataframe tbody tr th:only-of-type {\n",
       "        vertical-align: middle;\n",
       "    }\n",
       "\n",
       "    .dataframe tbody tr th {\n",
       "        vertical-align: top;\n",
       "    }\n",
       "\n",
       "    .dataframe thead th {\n",
       "        text-align: right;\n",
       "    }\n",
       "</style>\n",
       "<table border=\"1\" class=\"dataframe\">\n",
       "  <thead>\n",
       "    <tr style=\"text-align: right;\">\n",
       "      <th></th>\n",
       "      <th>sepal length (cm)</th>\n",
       "      <th>sepal width (cm)</th>\n",
       "      <th>petal length (cm)</th>\n",
       "      <th>petal width (cm)</th>\n",
       "      <th>target</th>\n",
       "    </tr>\n",
       "  </thead>\n",
       "  <tbody>\n",
       "    <tr>\n",
       "      <th>0</th>\n",
       "      <td>5.1</td>\n",
       "      <td>3.5</td>\n",
       "      <td>1.4</td>\n",
       "      <td>0.2</td>\n",
       "      <td>0</td>\n",
       "    </tr>\n",
       "    <tr>\n",
       "      <th>1</th>\n",
       "      <td>4.9</td>\n",
       "      <td>3.0</td>\n",
       "      <td>1.4</td>\n",
       "      <td>0.2</td>\n",
       "      <td>0</td>\n",
       "    </tr>\n",
       "    <tr>\n",
       "      <th>2</th>\n",
       "      <td>4.7</td>\n",
       "      <td>3.2</td>\n",
       "      <td>1.3</td>\n",
       "      <td>0.2</td>\n",
       "      <td>0</td>\n",
       "    </tr>\n",
       "    <tr>\n",
       "      <th>3</th>\n",
       "      <td>4.6</td>\n",
       "      <td>3.1</td>\n",
       "      <td>1.5</td>\n",
       "      <td>0.2</td>\n",
       "      <td>0</td>\n",
       "    </tr>\n",
       "    <tr>\n",
       "      <th>4</th>\n",
       "      <td>5.0</td>\n",
       "      <td>3.6</td>\n",
       "      <td>1.4</td>\n",
       "      <td>0.2</td>\n",
       "      <td>0</td>\n",
       "    </tr>\n",
       "  </tbody>\n",
       "</table>\n",
       "</div>"
      ],
      "text/plain": [
       "   sepal length (cm)  sepal width (cm)  petal length (cm)  petal width (cm)  \\\n",
       "0                5.1               3.5                1.4               0.2   \n",
       "1                4.9               3.0                1.4               0.2   \n",
       "2                4.7               3.2                1.3               0.2   \n",
       "3                4.6               3.1                1.5               0.2   \n",
       "4                5.0               3.6                1.4               0.2   \n",
       "\n",
       "   target  \n",
       "0       0  \n",
       "1       0  \n",
       "2       0  \n",
       "3       0  \n",
       "4       0  "
      ]
     },
     "execution_count": 216,
     "metadata": {},
     "output_type": "execute_result"
    }
   ],
   "source": [
    "import pandas as pd\n",
    "from sklearn.datasets import load_iris\n",
    "data = load_iris()\n",
    "df = pd.DataFrame(data[\"data\"], columns = data[\"feature_names\"])\n",
    "df[\"target\"] = data[\"target\"]\n",
    "print(df.shape)\n",
    "df.head()"
   ]
  },
  {
   "cell_type": "code",
   "execution_count": 218,
   "id": "bd15849e-64ba-4c39-9a79-75740eb2b8f4",
   "metadata": {},
   "outputs": [
    {
     "name": "stdout",
     "output_type": "stream",
     "text": [
      "1    50\n",
      "2    50\n",
      "0    50\n",
      "Name: fold, dtype: int64\n"
     ]
    }
   ],
   "source": [
    "from sklearn.model_selection import StratifiedKFold\n",
    "skf = StratifiedKFold(n_splits = 3, shuffle = True)\n",
    "df[\"fold\"] = -1\n",
    "for fold, (train_idx, valid_idx) in enumerate(skf.split(X = df, y = df[\"target\"])):\n",
    "    df.loc[valid_idx, \"fold\"] = fold\n",
    "print(df[\"fold\"].value_counts())"
   ]
  },
  {
   "cell_type": "code",
   "execution_count": 219,
   "id": "c6e5aa52-66a8-4bb3-8f71-8d315bb11beb",
   "metadata": {},
   "outputs": [
    {
     "name": "stdout",
     "output_type": "stream",
     "text": [
      "(100, 6) (50, 6)\n",
      "['sepal length (cm)', 'sepal width (cm)', 'petal length (cm)', 'petal width (cm)']\n"
     ]
    }
   ],
   "source": [
    "fold = 0\n",
    "train = df.loc[df[\"fold\"] != fold].copy()\n",
    "valid = df.loc[df[\"fold\"] == fold].copy()\n",
    "print(train.shape, valid.shape)\n",
    "\n",
    "feat_cols = train.drop(columns = [\"fold\", \"target\"]).columns.tolist()\n",
    "print(feat_cols)\n",
    "\n",
    "X_train = train[feat_cols]\n",
    "X_valid = valid[feat_cols]\n",
    "y_train = train[\"target\"]\n",
    "y_valid = valid[\"target\"]"
   ]
  },
  {
   "cell_type": "code",
   "execution_count": 229,
   "id": "93f9d48d-5f22-4b16-b23b-90821054e193",
   "metadata": {},
   "outputs": [
    {
     "data": {
      "text/plain": [
       "pandas.core.series.Series"
      ]
     },
     "execution_count": 229,
     "metadata": {},
     "output_type": "execute_result"
    }
   ],
   "source": [
    "type(y_train)"
   ]
  },
  {
   "cell_type": "code",
   "execution_count": 226,
   "id": "791bca01-bc64-4980-9b5d-37e02383bc5f",
   "metadata": {},
   "outputs": [
    {
     "name": "stdout",
     "output_type": "stream",
     "text": [
      "[0]\ttrain-mlogloss:0.76020\tvalid-mlogloss:0.74778\n",
      "Multiple eval metrics have been passed: 'valid-mlogloss' will be used for early stopping.\n",
      "\n",
      "Will train until valid-mlogloss hasn't improved in 10 rounds.\n",
      "[1]\ttrain-mlogloss:0.55107\tvalid-mlogloss:0.52798\n",
      "[2]\ttrain-mlogloss:0.41421\tvalid-mlogloss:0.38781\n",
      "[3]\ttrain-mlogloss:0.32053\tvalid-mlogloss:0.28938\n",
      "[4]\ttrain-mlogloss:0.25336\tvalid-mlogloss:0.22043\n",
      "[5]\ttrain-mlogloss:0.20467\tvalid-mlogloss:0.17075\n",
      "[6]\ttrain-mlogloss:0.16754\tvalid-mlogloss:0.13347\n",
      "[7]\ttrain-mlogloss:0.13935\tvalid-mlogloss:0.10462\n",
      "[8]\ttrain-mlogloss:0.11911\tvalid-mlogloss:0.08522\n",
      "[9]\ttrain-mlogloss:0.10330\tvalid-mlogloss:0.07114\n",
      "[10]\ttrain-mlogloss:0.08943\tvalid-mlogloss:0.06245\n",
      "[11]\ttrain-mlogloss:0.07820\tvalid-mlogloss:0.05527\n",
      "[12]\ttrain-mlogloss:0.06878\tvalid-mlogloss:0.04819\n",
      "[13]\ttrain-mlogloss:0.06127\tvalid-mlogloss:0.04263\n",
      "[14]\ttrain-mlogloss:0.05651\tvalid-mlogloss:0.03943\n",
      "[15]\ttrain-mlogloss:0.05122\tvalid-mlogloss:0.03694\n",
      "[16]\ttrain-mlogloss:0.04782\tvalid-mlogloss:0.03535\n",
      "[17]\ttrain-mlogloss:0.04498\tvalid-mlogloss:0.03363\n",
      "[18]\ttrain-mlogloss:0.04268\tvalid-mlogloss:0.03209\n",
      "[19]\ttrain-mlogloss:0.04125\tvalid-mlogloss:0.03050\n",
      "[20]\ttrain-mlogloss:0.04008\tvalid-mlogloss:0.02870\n",
      "[21]\ttrain-mlogloss:0.03917\tvalid-mlogloss:0.02847\n",
      "[22]\ttrain-mlogloss:0.03844\tvalid-mlogloss:0.02881\n",
      "[23]\ttrain-mlogloss:0.03710\tvalid-mlogloss:0.02859\n",
      "[24]\ttrain-mlogloss:0.03643\tvalid-mlogloss:0.02788\n",
      "[25]\ttrain-mlogloss:0.03571\tvalid-mlogloss:0.02778\n",
      "[26]\ttrain-mlogloss:0.03520\tvalid-mlogloss:0.02812\n",
      "[27]\ttrain-mlogloss:0.03425\tvalid-mlogloss:0.02808\n",
      "[28]\ttrain-mlogloss:0.03379\tvalid-mlogloss:0.02807\n",
      "[29]\ttrain-mlogloss:0.03336\tvalid-mlogloss:0.02791\n",
      "[30]\ttrain-mlogloss:0.03270\tvalid-mlogloss:0.02775\n",
      "[31]\ttrain-mlogloss:0.03234\tvalid-mlogloss:0.02778\n",
      "[32]\ttrain-mlogloss:0.03156\tvalid-mlogloss:0.02777\n",
      "[33]\ttrain-mlogloss:0.03122\tvalid-mlogloss:0.02722\n",
      "[34]\ttrain-mlogloss:0.03093\tvalid-mlogloss:0.02651\n",
      "[35]\ttrain-mlogloss:0.03047\tvalid-mlogloss:0.02618\n",
      "[36]\ttrain-mlogloss:0.03016\tvalid-mlogloss:0.02598\n",
      "[37]\ttrain-mlogloss:0.02989\tvalid-mlogloss:0.02561\n",
      "[38]\ttrain-mlogloss:0.02962\tvalid-mlogloss:0.02496\n",
      "[39]\ttrain-mlogloss:0.02936\tvalid-mlogloss:0.02537\n",
      "[40]\ttrain-mlogloss:0.02913\tvalid-mlogloss:0.02502\n",
      "[41]\ttrain-mlogloss:0.02886\tvalid-mlogloss:0.02436\n",
      "[42]\ttrain-mlogloss:0.02863\tvalid-mlogloss:0.02360\n",
      "[43]\ttrain-mlogloss:0.02825\tvalid-mlogloss:0.02349\n",
      "[44]\ttrain-mlogloss:0.02791\tvalid-mlogloss:0.02361\n",
      "[45]\ttrain-mlogloss:0.02770\tvalid-mlogloss:0.02329\n",
      "[46]\ttrain-mlogloss:0.02750\tvalid-mlogloss:0.02301\n",
      "[47]\ttrain-mlogloss:0.02731\tvalid-mlogloss:0.02255\n",
      "[48]\ttrain-mlogloss:0.02714\tvalid-mlogloss:0.02264\n",
      "[49]\ttrain-mlogloss:0.02698\tvalid-mlogloss:0.02243\n",
      "[50]\ttrain-mlogloss:0.02680\tvalid-mlogloss:0.02253\n",
      "[51]\ttrain-mlogloss:0.02664\tvalid-mlogloss:0.02254\n",
      "[52]\ttrain-mlogloss:0.02643\tvalid-mlogloss:0.02242\n",
      "[53]\ttrain-mlogloss:0.02628\tvalid-mlogloss:0.02251\n",
      "[54]\ttrain-mlogloss:0.02614\tvalid-mlogloss:0.02204\n",
      "[55]\ttrain-mlogloss:0.02600\tvalid-mlogloss:0.02238\n",
      "[56]\ttrain-mlogloss:0.02586\tvalid-mlogloss:0.02202\n",
      "[57]\ttrain-mlogloss:0.02568\tvalid-mlogloss:0.02189\n",
      "[58]\ttrain-mlogloss:0.02554\tvalid-mlogloss:0.02189\n",
      "[59]\ttrain-mlogloss:0.02543\tvalid-mlogloss:0.02160\n",
      "[60]\ttrain-mlogloss:0.02532\tvalid-mlogloss:0.02187\n",
      "[61]\ttrain-mlogloss:0.02515\tvalid-mlogloss:0.02182\n",
      "[62]\ttrain-mlogloss:0.02504\tvalid-mlogloss:0.02177\n",
      "[63]\ttrain-mlogloss:0.02494\tvalid-mlogloss:0.02204\n",
      "[64]\ttrain-mlogloss:0.02484\tvalid-mlogloss:0.02176\n",
      "[65]\ttrain-mlogloss:0.02468\tvalid-mlogloss:0.02172\n",
      "[66]\ttrain-mlogloss:0.02458\tvalid-mlogloss:0.02169\n",
      "[67]\ttrain-mlogloss:0.02449\tvalid-mlogloss:0.02173\n",
      "[68]\ttrain-mlogloss:0.02440\tvalid-mlogloss:0.02148\n",
      "[69]\ttrain-mlogloss:0.02425\tvalid-mlogloss:0.02144\n",
      "[70]\ttrain-mlogloss:0.02416\tvalid-mlogloss:0.02173\n",
      "[71]\ttrain-mlogloss:0.02402\tvalid-mlogloss:0.02138\n",
      "[72]\ttrain-mlogloss:0.02393\tvalid-mlogloss:0.02142\n",
      "[73]\ttrain-mlogloss:0.02379\tvalid-mlogloss:0.02109\n",
      "[74]\ttrain-mlogloss:0.02371\tvalid-mlogloss:0.02137\n",
      "[75]\ttrain-mlogloss:0.02363\tvalid-mlogloss:0.02115\n",
      "[76]\ttrain-mlogloss:0.02350\tvalid-mlogloss:0.02093\n",
      "[77]\ttrain-mlogloss:0.02343\tvalid-mlogloss:0.02072\n",
      "[78]\ttrain-mlogloss:0.02331\tvalid-mlogloss:0.02070\n",
      "[79]\ttrain-mlogloss:0.02323\tvalid-mlogloss:0.02048\n",
      "[80]\ttrain-mlogloss:0.02317\tvalid-mlogloss:0.02057\n",
      "[81]\ttrain-mlogloss:0.02305\tvalid-mlogloss:0.02027\n",
      "[82]\ttrain-mlogloss:0.02286\tvalid-mlogloss:0.01994\n",
      "[83]\ttrain-mlogloss:0.02279\tvalid-mlogloss:0.02003\n",
      "[84]\ttrain-mlogloss:0.02261\tvalid-mlogloss:0.01945\n",
      "[85]\ttrain-mlogloss:0.02254\tvalid-mlogloss:0.01955\n",
      "[86]\ttrain-mlogloss:0.02248\tvalid-mlogloss:0.01947\n",
      "[87]\ttrain-mlogloss:0.02242\tvalid-mlogloss:0.01928\n",
      "[88]\ttrain-mlogloss:0.02236\tvalid-mlogloss:0.01927\n",
      "[89]\ttrain-mlogloss:0.02219\tvalid-mlogloss:0.01880\n",
      "[90]\ttrain-mlogloss:0.02213\tvalid-mlogloss:0.01887\n",
      "[91]\ttrain-mlogloss:0.02198\tvalid-mlogloss:0.01835\n",
      "[92]\ttrain-mlogloss:0.02192\tvalid-mlogloss:0.01844\n",
      "[93]\ttrain-mlogloss:0.02177\tvalid-mlogloss:0.01806\n",
      "[94]\ttrain-mlogloss:0.02172\tvalid-mlogloss:0.01788\n",
      "[95]\ttrain-mlogloss:0.02167\tvalid-mlogloss:0.01778\n",
      "[96]\ttrain-mlogloss:0.02162\tvalid-mlogloss:0.01763\n",
      "[97]\ttrain-mlogloss:0.02158\tvalid-mlogloss:0.01755\n",
      "[98]\ttrain-mlogloss:0.02150\tvalid-mlogloss:0.01733\n",
      "[99]\ttrain-mlogloss:0.02146\tvalid-mlogloss:0.01740\n"
     ]
    }
   ],
   "source": [
    "import xgboost as xgb\n",
    "\n",
    "dtrain = xgb.DMatrix(X_train, y_train)\n",
    "dvalid = xgb.DMatrix(X_valid, y_valid)\n",
    "\n",
    "params = {\n",
    "    #\"objective\" : \"multi:softprob\",\n",
    "    \"objective\" : \"multi:softmax\",\n",
    "    \"eval_metric\" : \"mlogloss\", # mは複数を意味\n",
    "    \"num_class\" : 3 # （ラベルの種類数）\n",
    "}\n",
    "\n",
    "results_dict = {}\n",
    "model = xgb.train(\n",
    "    params = params,\n",
    "    dtrain = dtrain,\n",
    "    evals = [(dtrain, \"train\"), (dvalid, \"valid\")],\n",
    "    num_boost_round = 100,\n",
    "    early_stopping_rounds = 10,\n",
    "    evals_result = results_dict\n",
    ")"
   ]
  },
  {
   "cell_type": "code",
   "execution_count": 227,
   "id": "b4ca7d4b-51f7-493a-b5ae-98eeb10c705b",
   "metadata": {},
   "outputs": [
    {
     "data": {
      "image/png": "[encoded data removed]",
      "text/plain": [
       "<Figure size 432x288 with 1 Axes>"
      ]
     },
     "metadata": {
      "needs_background": "light"
     },
     "output_type": "display_data"
    }
   ],
   "source": [
    "import matplotlib.pyplot as plt\n",
    "plt.plot(results_dict[\"train\"][\"mlogloss\"], color = \"red\", label = \"train\")\n",
    "plt.plot(results_dict[\"valid\"][\"mlogloss\"], color = \"blue\", label = \"valid\")\n",
    "plt.legend()\n",
    "plt.show()"
   ]
  },
  {
   "cell_type": "code",
   "execution_count": 228,
   "id": "703ae221-89c0-4bc7-8757-6649f26bdc56",
   "metadata": {},
   "outputs": [
    {
     "name": "stdout",
     "output_type": "stream",
     "text": [
      "(50,)\n",
      "[0. 0. 0. 0. 0. 0. 0. 0. 0. 0. 0. 0. 0. 0. 0. 0. 0. 1. 1. 1. 1. 1. 1. 1.\n",
      " 1. 1. 1. 1. 1. 1. 1. 1. 1. 1. 2. 2. 2. 2. 2. 2. 2. 2. 2. 2. 2. 2. 2. 2.\n",
      " 2. 2.]\n"
     ]
    }
   ],
   "source": [
    "pred = model.predict(xgb.DMatrix(X_valid))\n",
    "print(pred.shape)\n",
    "print(pred)"
   ]
  },
  {
   "cell_type": "code",
   "execution_count": 223,
   "id": "300d561f-9f03-409a-b1e0-7fac84aac028",
   "metadata": {},
   "outputs": [
    {
     "name": "stdout",
     "output_type": "stream",
     "text": [
      "[0 0 0 0 0 0 0 0 0 0 0 0 0 0 0 0 0 1 1 1 1 1 1 1 1 1 1 1 1 1 1 1 1 1 2 2 2\n",
      " 2 2 2 2 2 2 2 2 2 2 2 2 2]\n",
      "====================================================================================================\n",
      "[0 0 0 0 0 0 0 0 0 0 0 0 0 0 0 0 0 1 1 1 1 1 1 1 1 1 1 1 1 1 1 1 1 1 2 2 2\n",
      " 2 2 2 2 2 2 2 2 2 2 2 2 2]\n"
     ]
    }
   ],
   "source": [
    "label = pred.argmax(axis = 1)\n",
    "print(label)\n",
    "print(\"=\" * 100)\n",
    "print(y_valid.values)"
   ]
  },
  {
   "cell_type": "code",
   "execution_count": 224,
   "id": "b59a2f3d-d353-416c-90c3-0ea7f1ea3510",
   "metadata": {},
   "outputs": [
    {
     "name": "stdout",
     "output_type": "stream",
     "text": [
      "1.0\n"
     ]
    }
   ],
   "source": [
    "from sklearn.metrics import accuracy_score\n",
    "acc = accuracy_score(y_valid, label)\n",
    "print(acc)"
   ]
  },
  {
   "cell_type": "code",
   "execution_count": 225,
   "id": "7a195af1-ec68-4f49-b43c-a836f2749c26",
   "metadata": {},
   "outputs": [
    {
     "name": "stdout",
     "output_type": "stream",
     "text": [
      "1.0 1.0\n"
     ]
    }
   ],
   "source": [
    "# 多クラス分類ではAUCを計算できない\n",
    "# 適合率(Precision)と再現率(Recall)を計算し、\n",
    "from sklearn.metrics import precision_score, recall_score\n",
    "precision = precision_score(y_valid.values, label, average = \"micro\")\n",
    "recall = recall_score(y_valid.values, label, average = \"micro\")\n",
    "print(precision, recall)"
   ]
  },
  {
   "cell_type": "code",
   "execution_count": null,
   "id": "5bd177d2-65e1-43cf-9829-7470cf0f7582",
   "metadata": {},
   "outputs": [],
   "source": []
  }
 ],
 "metadata": {
  "kernelspec": {
   "display_name": "Python 3 (ipykernel)",
   "language": "python",
   "name": "python3"
  },
  "language_info": {
   "codemirror_mode": {
    "name": "ipython",
    "version": 3
   },
   "file_extension": ".py",
   "mimetype": "text/x-python",
   "name": "python",
   "nbconvert_exporter": "python",
   "pygments_lexer": "ipython3",
   "version": "3.7.7"
  }
 },
 "nbformat": 4,
 "nbformat_minor": 5
}
